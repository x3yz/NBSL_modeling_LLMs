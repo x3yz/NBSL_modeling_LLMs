{
 "cells": [
  {
   "cell_type": "code",
   "execution_count": 2,
   "id": "7e38d1d3",
   "metadata": {},
   "outputs": [
    {
     "name": "stdout",
     "output_type": "stream",
     "text": [
      "Defaulting to user installation because normal site-packages is not writeable\n",
      "Requirement already satisfied: openai in /home/zoya/.local/lib/python3.10/site-packages (1.99.9)\n",
      "Requirement already satisfied: pydantic<3,>=1.9.0 in /home/zoya/.local/lib/python3.10/site-packages (from openai) (2.6.4)\n",
      "Requirement already satisfied: tqdm>4 in /home/zoya/.local/lib/python3.10/site-packages (from openai) (4.64.1)\n",
      "Requirement already satisfied: httpx<1,>=0.23.0 in /home/zoya/.local/lib/python3.10/site-packages (from openai) (0.28.1)\n",
      "Requirement already satisfied: anyio<5,>=3.5.0 in /home/zoya/.local/lib/python3.10/site-packages (from openai) (3.6.2)\n",
      "Requirement already satisfied: sniffio in /home/zoya/.local/lib/python3.10/site-packages (from openai) (1.3.0)\n",
      "Requirement already satisfied: distro<2,>=1.7.0 in /usr/lib/python3/dist-packages (from openai) (1.7.0)\n",
      "Requirement already satisfied: jiter<1,>=0.4.0 in /home/zoya/.local/lib/python3.10/site-packages (from openai) (0.10.0)\n",
      "Requirement already satisfied: typing-extensions<5,>=4.11 in /home/zoya/.local/lib/python3.10/site-packages (from openai) (4.14.1)\n",
      "Requirement already satisfied: idna>=2.8 in /usr/lib/python3/dist-packages (from anyio<5,>=3.5.0->openai) (3.3)\n",
      "Requirement already satisfied: certifi in /home/zoya/.local/lib/python3.10/site-packages (from httpx<1,>=0.23.0->openai) (2022.12.7)\n",
      "Requirement already satisfied: httpcore==1.* in /home/zoya/.local/lib/python3.10/site-packages (from httpx<1,>=0.23.0->openai) (1.0.9)\n",
      "Requirement already satisfied: h11>=0.16 in /home/zoya/.local/lib/python3.10/site-packages (from httpcore==1.*->httpx<1,>=0.23.0->openai) (0.16.0)\n",
      "Requirement already satisfied: pydantic-core==2.16.3 in /home/zoya/.local/lib/python3.10/site-packages (from pydantic<3,>=1.9.0->openai) (2.16.3)\n",
      "Requirement already satisfied: annotated-types>=0.4.0 in /home/zoya/.local/lib/python3.10/site-packages (from pydantic<3,>=1.9.0->openai) (0.6.0)\n"
     ]
    }
   ],
   "source": [
    "!pip install openai\n",
    "\n",
    "from openai import OpenAI\n",
    "import networkx as nx\n",
    "\n",
    "import numpy as np\n",
    "from scipy import stats as sps\n",
    "from matplotlib import pyplot as plt\n",
    "import pandas as pd"
   ]
  },
  {
   "cell_type": "code",
   "execution_count": 3,
   "id": "8e9ffbd4",
   "metadata": {},
   "outputs": [],
   "source": [
    "import pickle\n",
    "with open(\"data/Moviegroups.pkl\", \"rb\") as f:\n",
    "    movie_group = pickle.load(f)"
   ]
  },
  {
   "cell_type": "code",
   "execution_count": 4,
   "id": "edb6cbf0",
   "metadata": {},
   "outputs": [],
   "source": [
    "T = 20"
   ]
  },
  {
   "cell_type": "code",
   "execution_count": 5,
   "id": "29d065ea",
   "metadata": {},
   "outputs": [
    {
     "data": {
      "text/plain": [
       "array([ 0, 17, 15,  1,  8,  5, 11,  3, 18, 16, 13,  2,  9, 19,  4, 12,  7,\n",
       "       10, 14,  6])"
      ]
     },
     "execution_count": 5,
     "metadata": {},
     "output_type": "execute_result"
    }
   ],
   "source": [
    "shuffled_time = np.random.RandomState(seed=42).permutation(T)\n",
    "shuffled_time"
   ]
  },
  {
   "cell_type": "code",
   "execution_count": 6,
   "id": "8763981e",
   "metadata": {},
   "outputs": [],
   "source": [
    "real_class = 0"
   ]
  },
  {
   "cell_type": "code",
   "execution_count": 7,
   "id": "b687e21f",
   "metadata": {},
   "outputs": [],
   "source": [
    "N = 12"
   ]
  },
  {
   "cell_type": "code",
   "execution_count": 8,
   "id": "3a84d9f6",
   "metadata": {},
   "outputs": [],
   "source": [
    "network = np.array([[0, 0, 0, 1, 0, 1, 1, 0, 0, 1, 0, 0],\n",
    " [0, 0, 0, 0, 0, 0, 0, 1, 1, 0, 1, 1],\n",
    " [0, 0, 0, 0, 1, 0, 0, 1, 0, 1, 1, 1],\n",
    " [1, 0, 0, 0, 1, 0, 1, 0, 1, 0, 0, 1],\n",
    " [0, 0, 1, 1, 0, 1, 0, 0, 1, 0, 0, 1],\n",
    " [1, 0, 0, 0, 1, 0, 1, 1, 0, 1, 1, 1],\n",
    " [1, 0, 0, 1, 0, 1, 0, 0, 1, 0, 0, 0],\n",
    " [0, 1, 1, 0, 0, 1, 0, 0, 0, 0, 0, 0],\n",
    " [0, 1, 0, 1, 1, 0, 1, 0, 0, 0, 0, 1],\n",
    " [1, 0, 1, 0, 0, 1, 0, 0, 0, 0, 1, 1],\n",
    " [0, 1, 1, 0, 0, 1, 0, 0, 0, 1, 0, 0],\n",
    " [0, 1, 1, 1, 1, 1, 0, 0, 1, 1, 0, 0]])\n",
    "weights = np.array([[0.333, 0.333, 0.334] for i in range(N)])"
   ]
  },
  {
   "cell_type": "code",
   "execution_count": 9,
   "id": "0e1e4a32",
   "metadata": {},
   "outputs": [
    {
     "data": {
      "text/plain": [
       "[[3, 5, 6, 9, 0],\n",
       " [7, 8, 10, 11, 1],\n",
       " [4, 7, 9, 10, 11, 2],\n",
       " [0, 4, 6, 8, 11, 3],\n",
       " [2, 3, 5, 8, 11, 4],\n",
       " [0, 4, 6, 7, 9, 10, 11, 5],\n",
       " [0, 3, 5, 8, 6],\n",
       " [1, 2, 5, 7],\n",
       " [1, 3, 4, 6, 11, 8],\n",
       " [0, 2, 5, 10, 11, 9],\n",
       " [1, 2, 5, 9, 10],\n",
       " [1, 2, 3, 4, 5, 8, 9, 11]]"
      ]
     },
     "execution_count": 9,
     "metadata": {},
     "output_type": "execute_result"
    }
   ],
   "source": [
    "edges = [[] for i in range(N)]\n",
    "for i in range(N):\n",
    "    for j in range(i + 1, N):\n",
    "        if (network[i][j] == 1):\n",
    "            edges[i].append(j)\n",
    "            edges[j].append(i)\n",
    "    edges[i].append(i)\n",
    "edges"
   ]
  },
  {
   "cell_type": "code",
   "execution_count": 10,
   "id": "18bc536b",
   "metadata": {},
   "outputs": [],
   "source": [
    "with open(\"data/Likelihoods\", \"rb\") as f:\n",
    "    id_likelihoods = np.load(f)"
   ]
  },
  {
   "cell_type": "code",
   "execution_count": 11,
   "id": "b6826874",
   "metadata": {},
   "outputs": [],
   "source": [
    "EPS = 0.011\n",
    "def normalize(p, eps = EPS):\n",
    "    p = np.array(p, dtype=float) + eps\n",
    "    p = p / p.sum()\n",
    "    return p\n",
    "def normalize_big(p, eps = EPS):\n",
    "    p = np.array(p, dtype=float) + eps\n",
    "    p = p / p.sum(axis=1, keepdims=True)\n",
    "    return p"
   ]
  },
  {
   "cell_type": "code",
   "execution_count": 16,
   "id": "9696e6ad",
   "metadata": {},
   "outputs": [],
   "source": [
    "T_max=15"
   ]
  },
  {
   "cell_type": "code",
   "execution_count": 17,
   "id": "58033ade",
   "metadata": {},
   "outputs": [],
   "source": [
    "def compute_ans(num_samples):\n",
    "    ans = np.zeros((num_samples, T_max, N, 3))\n",
    "    for sample in range(num_samples):\n",
    "        prev_guess = [np.array([0.333, 0.333, 0.334]) for i in range(N)]\n",
    "        for id_t in range(T_max):\n",
    "            t = shuffled_time[id_t]\n",
    "            for k in range(N):\n",
    "                clue_id = movie_group[real_class][k][t][0]\n",
    "                product = 1\n",
    "                for l in edges[k]:\n",
    "                    product *= prev_guess[l]\n",
    "                sum_weights = (len(edges[k]))\n",
    "                product = (product ** (1 / sum_weights))\n",
    "                ans[sample][id_t][k] = normalize(normalize(product) * (id_likelihoods[sample][clue_id]))\n",
    "            prev_guess = ans[sample][id_t]\n",
    "    return ans"
   ]
  },
  {
   "cell_type": "code",
   "execution_count": 18,
   "id": "771a102e",
   "metadata": {},
   "outputs": [],
   "source": [
    "num_samples=10"
   ]
  },
  {
   "cell_type": "code",
   "execution_count": 19,
   "id": "3feb887f",
   "metadata": {},
   "outputs": [],
   "source": [
    "ans = compute_ans(num_samples)"
   ]
  },
  {
   "cell_type": "code",
   "execution_count": 20,
   "id": "42ff3323",
   "metadata": {},
   "outputs": [],
   "source": [
    "with open(\"data/NBSL_ans\", \"wb\") as f:\n",
    "    np.save(f, ans)"
   ]
  }
 ],
 "metadata": {
  "kernelspec": {
   "display_name": "Python 3 (ipykernel)",
   "language": "python",
   "name": "python3"
  },
  "language_info": {
   "codemirror_mode": {
    "name": "ipython",
    "version": 3
   },
   "file_extension": ".py",
   "mimetype": "text/x-python",
   "name": "python",
   "nbconvert_exporter": "python",
   "pygments_lexer": "ipython3",
   "version": "3.10.12"
  }
 },
 "nbformat": 4,
 "nbformat_minor": 5
}
