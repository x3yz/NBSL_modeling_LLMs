{
 "cells": [
  {
   "cell_type": "code",
   "execution_count": 1,
   "id": "edea6904",
   "metadata": {},
   "outputs": [
    {
     "name": "stdout",
     "output_type": "stream",
     "text": [
      "Defaulting to user installation because normal site-packages is not writeable\n",
      "Requirement already satisfied: openai in /home/zoya/.local/lib/python3.10/site-packages (1.99.9)\n",
      "Requirement already satisfied: tqdm>4 in /home/zoya/.local/lib/python3.10/site-packages (from openai) (4.64.1)\n",
      "Requirement already satisfied: distro<2,>=1.7.0 in /usr/lib/python3/dist-packages (from openai) (1.7.0)\n",
      "Requirement already satisfied: jiter<1,>=0.4.0 in /home/zoya/.local/lib/python3.10/site-packages (from openai) (0.10.0)\n",
      "Requirement already satisfied: pydantic<3,>=1.9.0 in /home/zoya/.local/lib/python3.10/site-packages (from openai) (2.6.4)\n",
      "Requirement already satisfied: httpx<1,>=0.23.0 in /home/zoya/.local/lib/python3.10/site-packages (from openai) (0.28.1)\n",
      "Requirement already satisfied: sniffio in /home/zoya/.local/lib/python3.10/site-packages (from openai) (1.3.0)\n",
      "Requirement already satisfied: typing-extensions<5,>=4.11 in /home/zoya/.local/lib/python3.10/site-packages (from openai) (4.14.1)\n",
      "Requirement already satisfied: anyio<5,>=3.5.0 in /home/zoya/.local/lib/python3.10/site-packages (from openai) (3.6.2)\n",
      "Requirement already satisfied: idna>=2.8 in /usr/lib/python3/dist-packages (from anyio<5,>=3.5.0->openai) (3.3)\n",
      "Requirement already satisfied: httpcore==1.* in /home/zoya/.local/lib/python3.10/site-packages (from httpx<1,>=0.23.0->openai) (1.0.9)\n",
      "Requirement already satisfied: certifi in /home/zoya/.local/lib/python3.10/site-packages (from httpx<1,>=0.23.0->openai) (2022.12.7)\n",
      "Requirement already satisfied: h11>=0.16 in /home/zoya/.local/lib/python3.10/site-packages (from httpcore==1.*->httpx<1,>=0.23.0->openai) (0.16.0)\n",
      "Requirement already satisfied: pydantic-core==2.16.3 in /home/zoya/.local/lib/python3.10/site-packages (from pydantic<3,>=1.9.0->openai) (2.16.3)\n",
      "Requirement already satisfied: annotated-types>=0.4.0 in /home/zoya/.local/lib/python3.10/site-packages (from pydantic<3,>=1.9.0->openai) (0.6.0)\n"
     ]
    }
   ],
   "source": [
    "!pip install openai\n",
    "\n",
    "from openai import OpenAI\n",
    "import networkx as nx\n",
    "\n",
    "import numpy as np\n",
    "from scipy import stats as sps\n",
    "import seaborn as sns\n",
    "from matplotlib import pyplot as plt\n",
    "import pandas as pd\n",
    "np.random.seed(42)"
   ]
  },
  {
   "cell_type": "code",
   "execution_count": 2,
   "id": "8a7a2957",
   "metadata": {},
   "outputs": [],
   "source": [
    "ratings = pd.read_csv(\"data/ml-32m/ratings.csv\")\n",
    "movies = pd.read_csv(\"data/ml-32m/movies.csv\")\n",
    "tags = pd.read_csv(\"data/ml-32m/tags.csv\")"
   ]
  },
  {
   "cell_type": "code",
   "execution_count": 3,
   "id": "c9247b25",
   "metadata": {},
   "outputs": [
    {
     "data": {
      "text/html": [
       "<div>\n",
       "<style scoped>\n",
       "    .dataframe tbody tr th:only-of-type {\n",
       "        vertical-align: middle;\n",
       "    }\n",
       "\n",
       "    .dataframe tbody tr th {\n",
       "        vertical-align: top;\n",
       "    }\n",
       "\n",
       "    .dataframe thead th {\n",
       "        text-align: right;\n",
       "    }\n",
       "</style>\n",
       "<table border=\"1\" class=\"dataframe\">\n",
       "  <thead>\n",
       "    <tr style=\"text-align: right;\">\n",
       "      <th></th>\n",
       "      <th>movieId</th>\n",
       "      <th>avg_rating</th>\n",
       "      <th>num_ratings</th>\n",
       "      <th>title</th>\n",
       "      <th>genres</th>\n",
       "    </tr>\n",
       "  </thead>\n",
       "  <tbody>\n",
       "    <tr>\n",
       "      <th>0</th>\n",
       "      <td>318</td>\n",
       "      <td>4.404614</td>\n",
       "      <td>102929</td>\n",
       "      <td>Shawshank Redemption, The (1994)</td>\n",
       "      <td>Crime|Drama</td>\n",
       "    </tr>\n",
       "    <tr>\n",
       "      <th>1</th>\n",
       "      <td>356</td>\n",
       "      <td>4.052744</td>\n",
       "      <td>100296</td>\n",
       "      <td>Forrest Gump (1994)</td>\n",
       "      <td>Comedy|Drama|Romance|War</td>\n",
       "    </tr>\n",
       "    <tr>\n",
       "      <th>2</th>\n",
       "      <td>296</td>\n",
       "      <td>4.196969</td>\n",
       "      <td>98409</td>\n",
       "      <td>Pulp Fiction (1994)</td>\n",
       "      <td>Comedy|Crime|Drama|Thriller</td>\n",
       "    </tr>\n",
       "    <tr>\n",
       "      <th>3</th>\n",
       "      <td>2571</td>\n",
       "      <td>4.156437</td>\n",
       "      <td>93808</td>\n",
       "      <td>Matrix, The (1999)</td>\n",
       "      <td>Action|Sci-Fi|Thriller</td>\n",
       "    </tr>\n",
       "    <tr>\n",
       "      <th>4</th>\n",
       "      <td>593</td>\n",
       "      <td>4.148367</td>\n",
       "      <td>90330</td>\n",
       "      <td>Silence of the Lambs, The (1991)</td>\n",
       "      <td>Crime|Horror|Thriller</td>\n",
       "    </tr>\n",
       "    <tr>\n",
       "      <th>5</th>\n",
       "      <td>260</td>\n",
       "      <td>4.099824</td>\n",
       "      <td>85010</td>\n",
       "      <td>Star Wars: Episode IV - A New Hope (1977)</td>\n",
       "      <td>Action|Adventure|Sci-Fi</td>\n",
       "    </tr>\n",
       "    <tr>\n",
       "      <th>6</th>\n",
       "      <td>2959</td>\n",
       "      <td>4.228780</td>\n",
       "      <td>77332</td>\n",
       "      <td>Fight Club (1999)</td>\n",
       "      <td>Action|Crime|Drama|Thriller</td>\n",
       "    </tr>\n",
       "    <tr>\n",
       "      <th>7</th>\n",
       "      <td>480</td>\n",
       "      <td>3.698623</td>\n",
       "      <td>75233</td>\n",
       "      <td>Jurassic Park (1993)</td>\n",
       "      <td>Action|Adventure|Sci-Fi|Thriller</td>\n",
       "    </tr>\n",
       "  </tbody>\n",
       "</table>\n",
       "</div>"
      ],
      "text/plain": [
       "   movieId  avg_rating  num_ratings  \\\n",
       "0      318    4.404614       102929   \n",
       "1      356    4.052744       100296   \n",
       "2      296    4.196969        98409   \n",
       "3     2571    4.156437        93808   \n",
       "4      593    4.148367        90330   \n",
       "5      260    4.099824        85010   \n",
       "6     2959    4.228780        77332   \n",
       "7      480    3.698623        75233   \n",
       "\n",
       "                                       title                            genres  \n",
       "0           Shawshank Redemption, The (1994)                       Crime|Drama  \n",
       "1                        Forrest Gump (1994)          Comedy|Drama|Romance|War  \n",
       "2                        Pulp Fiction (1994)       Comedy|Crime|Drama|Thriller  \n",
       "3                         Matrix, The (1999)            Action|Sci-Fi|Thriller  \n",
       "4           Silence of the Lambs, The (1991)             Crime|Horror|Thriller  \n",
       "5  Star Wars: Episode IV - A New Hope (1977)           Action|Adventure|Sci-Fi  \n",
       "6                          Fight Club (1999)       Action|Crime|Drama|Thriller  \n",
       "7                       Jurassic Park (1993)  Action|Adventure|Sci-Fi|Thriller  "
      ]
     },
     "execution_count": 3,
     "metadata": {},
     "output_type": "execute_result"
    }
   ],
   "source": [
    "top_movies = (\n",
    "    ratings.groupby(\"movieId\")\n",
    "           .agg(avg_rating=(\"rating\", \"mean\"), num_ratings=(\"rating\", \"count\"))\n",
    "           .reset_index()\n",
    ")\n",
    "\n",
    "# Pick top 3 by num_ratings - FIXED: use brackets [] instead of parentheses ()\n",
    "top_movies = top_movies.sort_values(\"num_ratings\", ascending=False).head(50)\n",
    "top_movies = top_movies.merge(movies, on=\"movieId\", how=\"left\")\n",
    "top_movies.head(8)"
   ]
  },
  {
   "cell_type": "code",
   "execution_count": 4,
   "id": "9e7ab253",
   "metadata": {},
   "outputs": [
    {
     "data": {
      "text/html": [
       "<div>\n",
       "<style scoped>\n",
       "    .dataframe tbody tr th:only-of-type {\n",
       "        vertical-align: middle;\n",
       "    }\n",
       "\n",
       "    .dataframe tbody tr th {\n",
       "        vertical-align: top;\n",
       "    }\n",
       "\n",
       "    .dataframe thead th {\n",
       "        text-align: right;\n",
       "    }\n",
       "</style>\n",
       "<table border=\"1\" class=\"dataframe\">\n",
       "  <thead>\n",
       "    <tr style=\"text-align: right;\">\n",
       "      <th></th>\n",
       "      <th>movieId</th>\n",
       "      <th>avg_rating</th>\n",
       "      <th>num_ratings</th>\n",
       "      <th>title</th>\n",
       "      <th>genres</th>\n",
       "    </tr>\n",
       "  </thead>\n",
       "  <tbody>\n",
       "    <tr>\n",
       "      <th>1</th>\n",
       "      <td>356</td>\n",
       "      <td>4.052744</td>\n",
       "      <td>100296</td>\n",
       "      <td>Forrest Gump (1994)</td>\n",
       "      <td>Comedy|Drama|Romance|War</td>\n",
       "    </tr>\n",
       "    <tr>\n",
       "      <th>2</th>\n",
       "      <td>296</td>\n",
       "      <td>4.196969</td>\n",
       "      <td>98409</td>\n",
       "      <td>Pulp Fiction (1994)</td>\n",
       "      <td>Comedy|Crime|Drama|Thriller</td>\n",
       "    </tr>\n",
       "    <tr>\n",
       "      <th>6</th>\n",
       "      <td>2959</td>\n",
       "      <td>4.228780</td>\n",
       "      <td>77332</td>\n",
       "      <td>Fight Club (1999)</td>\n",
       "      <td>Action|Crime|Drama|Thriller</td>\n",
       "    </tr>\n",
       "  </tbody>\n",
       "</table>\n",
       "</div>"
      ],
      "text/plain": [
       "   movieId  avg_rating  num_ratings                title  \\\n",
       "1      356    4.052744       100296  Forrest Gump (1994)   \n",
       "2      296    4.196969        98409  Pulp Fiction (1994)   \n",
       "6     2959    4.228780        77332    Fight Club (1999)   \n",
       "\n",
       "                        genres  \n",
       "1     Comedy|Drama|Romance|War  \n",
       "2  Comedy|Crime|Drama|Thriller  \n",
       "6  Action|Crime|Drama|Thriller  "
      ]
     },
     "execution_count": 4,
     "metadata": {},
     "output_type": "execute_result"
    }
   ],
   "source": [
    "top_movies = top_movies.iloc[[1, 2, 6]]\n",
    "\n",
    "top_movies"
   ]
  },
  {
   "cell_type": "code",
   "execution_count": 5,
   "id": "265dc7eb",
   "metadata": {},
   "outputs": [
    {
     "name": "stdout",
     "output_type": "stream",
     "text": [
      "['Forrest Gump (1994)', 'Pulp Fiction (1994)', 'Fight Club (1999)']\n",
      "[356, 296, 2959]\n"
     ]
    }
   ],
   "source": [
    "# Merge with titles\n",
    "top_movie_ids = top_movies[\"movieId\"].tolist()\n",
    "top_movie_names = top_movies['title'].tolist()\n",
    "\n",
    "print(top_movie_names)\n",
    "print(top_movie_ids)"
   ]
  },
  {
   "cell_type": "code",
   "execution_count": 6,
   "id": "e5e63ffe",
   "metadata": {},
   "outputs": [
    {
     "data": {
      "text/html": [
       "<div>\n",
       "<style scoped>\n",
       "    .dataframe tbody tr th:only-of-type {\n",
       "        vertical-align: middle;\n",
       "    }\n",
       "\n",
       "    .dataframe tbody tr th {\n",
       "        vertical-align: top;\n",
       "    }\n",
       "\n",
       "    .dataframe thead th {\n",
       "        text-align: right;\n",
       "    }\n",
       "</style>\n",
       "<table border=\"1\" class=\"dataframe\">\n",
       "  <thead>\n",
       "    <tr style=\"text-align: right;\">\n",
       "      <th></th>\n",
       "      <th>userId</th>\n",
       "      <th>movieId</th>\n",
       "      <th>tag</th>\n",
       "      <th>timestamp</th>\n",
       "    </tr>\n",
       "  </thead>\n",
       "  <tbody>\n",
       "    <tr>\n",
       "      <th>197</th>\n",
       "      <td>109</td>\n",
       "      <td>2959</td>\n",
       "      <td>Brad Pitt</td>\n",
       "      <td>1257989264</td>\n",
       "    </tr>\n",
       "    <tr>\n",
       "      <th>198</th>\n",
       "      <td>109</td>\n",
       "      <td>2959</td>\n",
       "      <td>dark</td>\n",
       "      <td>1257989274</td>\n",
       "    </tr>\n",
       "    <tr>\n",
       "      <th>199</th>\n",
       "      <td>109</td>\n",
       "      <td>2959</td>\n",
       "      <td>dark comedy</td>\n",
       "      <td>1257989253</td>\n",
       "    </tr>\n",
       "    <tr>\n",
       "      <th>200</th>\n",
       "      <td>109</td>\n",
       "      <td>2959</td>\n",
       "      <td>Edward Norton</td>\n",
       "      <td>1257989262</td>\n",
       "    </tr>\n",
       "    <tr>\n",
       "      <th>201</th>\n",
       "      <td>109</td>\n",
       "      <td>2959</td>\n",
       "      <td>mental illness</td>\n",
       "      <td>1257989255</td>\n",
       "    </tr>\n",
       "    <tr>\n",
       "      <th>...</th>\n",
       "      <td>...</td>\n",
       "      <td>...</td>\n",
       "      <td>...</td>\n",
       "      <td>...</td>\n",
       "    </tr>\n",
       "    <tr>\n",
       "      <th>1999380</th>\n",
       "      <td>162279</td>\n",
       "      <td>296</td>\n",
       "      <td>Bruce Willis</td>\n",
       "      <td>1284926303</td>\n",
       "    </tr>\n",
       "    <tr>\n",
       "      <th>1999381</th>\n",
       "      <td>162279</td>\n",
       "      <td>296</td>\n",
       "      <td>Quentin Tarantino</td>\n",
       "      <td>1284926298</td>\n",
       "    </tr>\n",
       "    <tr>\n",
       "      <th>1999382</th>\n",
       "      <td>162279</td>\n",
       "      <td>296</td>\n",
       "      <td>Samuel L. Jackson</td>\n",
       "      <td>1284926300</td>\n",
       "    </tr>\n",
       "    <tr>\n",
       "      <th>1999383</th>\n",
       "      <td>162279</td>\n",
       "      <td>296</td>\n",
       "      <td>Steve Buscemi</td>\n",
       "      <td>1284926322</td>\n",
       "    </tr>\n",
       "    <tr>\n",
       "      <th>1999384</th>\n",
       "      <td>162279</td>\n",
       "      <td>296</td>\n",
       "      <td>Uma Thurman</td>\n",
       "      <td>1284926308</td>\n",
       "    </tr>\n",
       "  </tbody>\n",
       "</table>\n",
       "<p>15810 rows × 4 columns</p>\n",
       "</div>"
      ],
      "text/plain": [
       "         userId  movieId                tag   timestamp\n",
       "197         109     2959          Brad Pitt  1257989264\n",
       "198         109     2959               dark  1257989274\n",
       "199         109     2959        dark comedy  1257989253\n",
       "200         109     2959      Edward Norton  1257989262\n",
       "201         109     2959     mental illness  1257989255\n",
       "...         ...      ...                ...         ...\n",
       "1999380  162279      296       Bruce Willis  1284926303\n",
       "1999381  162279      296  Quentin Tarantino  1284926298\n",
       "1999382  162279      296  Samuel L. Jackson  1284926300\n",
       "1999383  162279      296      Steve Buscemi  1284926322\n",
       "1999384  162279      296        Uma Thurman  1284926308\n",
       "\n",
       "[15810 rows x 4 columns]"
      ]
     },
     "execution_count": 6,
     "metadata": {},
     "output_type": "execute_result"
    }
   ],
   "source": [
    "# Step 1. Get all tags for top 3 movies\n",
    "rel_top3 = tags[tags[\"movieId\"].isin(top_movie_ids)].copy()\n",
    "rel_top3"
   ]
  },
  {
   "cell_type": "code",
   "execution_count": 7,
   "id": "690b1beb",
   "metadata": {},
   "outputs": [
    {
     "data": {
      "text/html": [
       "<div>\n",
       "<style scoped>\n",
       "    .dataframe tbody tr th:only-of-type {\n",
       "        vertical-align: middle;\n",
       "    }\n",
       "\n",
       "    .dataframe tbody tr th {\n",
       "        vertical-align: top;\n",
       "    }\n",
       "\n",
       "    .dataframe thead th {\n",
       "        text-align: right;\n",
       "    }\n",
       "</style>\n",
       "<table border=\"1\" class=\"dataframe\">\n",
       "  <thead>\n",
       "    <tr style=\"text-align: right;\">\n",
       "      <th></th>\n",
       "      <th>userId</th>\n",
       "      <th>movieId</th>\n",
       "      <th>tag</th>\n",
       "      <th>timestamp</th>\n",
       "      <th>NewTagID</th>\n",
       "    </tr>\n",
       "  </thead>\n",
       "  <tbody>\n",
       "    <tr>\n",
       "      <th>0</th>\n",
       "      <td>109</td>\n",
       "      <td>2959</td>\n",
       "      <td>Brad Pitt</td>\n",
       "      <td>1257989264</td>\n",
       "      <td>0</td>\n",
       "    </tr>\n",
       "    <tr>\n",
       "      <th>1</th>\n",
       "      <td>109</td>\n",
       "      <td>2959</td>\n",
       "      <td>dark</td>\n",
       "      <td>1257989274</td>\n",
       "      <td>1</td>\n",
       "    </tr>\n",
       "    <tr>\n",
       "      <th>2</th>\n",
       "      <td>109</td>\n",
       "      <td>2959</td>\n",
       "      <td>dark comedy</td>\n",
       "      <td>1257989253</td>\n",
       "      <td>2</td>\n",
       "    </tr>\n",
       "    <tr>\n",
       "      <th>3</th>\n",
       "      <td>109</td>\n",
       "      <td>2959</td>\n",
       "      <td>Edward Norton</td>\n",
       "      <td>1257989262</td>\n",
       "      <td>3</td>\n",
       "    </tr>\n",
       "    <tr>\n",
       "      <th>4</th>\n",
       "      <td>109</td>\n",
       "      <td>2959</td>\n",
       "      <td>mental illness</td>\n",
       "      <td>1257989255</td>\n",
       "      <td>4</td>\n",
       "    </tr>\n",
       "  </tbody>\n",
       "</table>\n",
       "</div>"
      ],
      "text/plain": [
       "   userId  movieId             tag   timestamp  NewTagID\n",
       "0     109     2959       Brad Pitt  1257989264         0\n",
       "1     109     2959            dark  1257989274         1\n",
       "2     109     2959     dark comedy  1257989253         2\n",
       "3     109     2959   Edward Norton  1257989262         3\n",
       "4     109     2959  mental illness  1257989255         4"
      ]
     },
     "execution_count": 7,
     "metadata": {},
     "output_type": "execute_result"
    }
   ],
   "source": [
    "unique_tags = rel_top3[[\"tag\"]].drop_duplicates().reset_index(drop=True)\n",
    "unique_tags[\"NewTagID\"] = range(len(unique_tags))  # <-- start from 0\n",
    "rel_tags = rel_top3.merge(unique_tags, on=[\"tag\"], how=\"left\")\n",
    "rel_tags.head()"
   ]
  },
  {
   "cell_type": "code",
   "execution_count": 8,
   "id": "f5990185",
   "metadata": {},
   "outputs": [
    {
     "name": "stdout",
     "output_type": "stream",
     "text": [
      "[(0, 'Brad Pitt'), (1, 'dark'), (2, 'dark comedy'), (3, 'Edward Norton'), (4, 'mental illness'), (5, 'thought-provoking'), (6, 'twist ending'), (7, 'action'), (8, 'Bruce Willis'), (9, 'comedy'), (10, 'crime'), (11, 'great dialogue'), (12, 'multiple storylines'), (13, 'very funny'), (14, 'clever'), (15, 'smart'), (16, 'classic'), (17, 'fun'), (18, 'atmospheric'), (19, 'disjointed timeline'), (20, 'drugs'), (21, 'gangsters'), (22, 'nonlinear narrative'), (23, 'stylized'), (24, 'cult classic'), (25, 'funny'), (26, 'good dialogue'), (27, 'Samuel L. Jackson'), (28, 'Uma Thurman'), (29, 'violence'), (30, 'blood'), (31, 'brutality'), (32, 'dialogue'), (33, 'foul language'), (34, 'style'), (35, 'acting'), (36, 'Helena Bonham Carter'), (37, 'powerful ending'), (38, 'black comedy'), (39, 'cult film'), (40, 'great soundtrack'), (41, 'Highly quotable'), (42, 'nonlinear'), (43, 'Quentin Tarantino'), (44, 'bittersweet'), (45, 'drama'), (46, 'emotional'), (47, 'great acting'), (48, 'heartwarming'), (49, 'history'), (50, 'inspirational'), (51, 'inspiring'), (52, 'Tom Hanks'), (53, 'touching'), (54, 'Vietnam War'), (55, 'social commentary'), (56, 'surreal'), (57, 'growing up'), (58, 'historical'), (59, 'monologue'), (60, 'asynchronus storytelling'), (61, 'non-linear timeline'), (62, 'Roger Avary'), (63, 'roger avary is the reason this film is good'), (64, 'blood splatters'), (65, 'character development'), (66, 'crossed lifes'), (67, 'mindfuck'), (68, 'psychology'), (69, 'good acting'), (70, 'Historical '), (71, 'meaning of life'), (72, 'complicated'), (73, 'insanity'), (74, 'philosophy'), (75, 'societal criticism'), (76, 'Funny'), (77, 'humorous'), (78, 'sexuality'), (79, 'surprising'), (80, 'tom hanks'), (81, 'vietnam war'), (82, 'philosophical'), (83, 'psychological'), (84, 'satirical'), (85, 'violent'), (86, 'disturbing'), (87, 'double life'), (88, 'fighting'), (89, 'imaginary friend'), (90, 'imdb top 250'), (91, 'insomnia'), (92, 'intelligent'), (93, 'mindblowing'), (94, 'narrated'), (95, 'postmodern'), (96, 'psychological thriller'), (97, 'schizophrenia'), (98, 'twist'), (99, 'David Fincher'), (100, 'comdey'), (101, 'retarded'), (102, 'based on a book'), (103, 'quirky'), (104, 'quentin tarantino'), (105, 'gangster'), (106, 'non-linear'), (107, 'endearing'), (108, 'flashbacks'), (109, 'masterpiece'), (110, 'organized crime'), (111, 'Tarantino'), (112, \"Tumey's DVDs\"), (113, 'biography'), (114, 'epic'), (115, 'good music'), (116, 'great story'), (117, 'iconic'), (118, 'love'), (119, 'modern classic'), (120, 'Oscar (Best Directing)'), (121, 'Oscar (Best Picture)'), (122, 'Oscar Winner'), (123, 'quotable'), (124, 'Robert Zemeckis'), (125, 'romance'), (126, 'uplifting'), (127, 'guns'), (128, 'mafia'), (129, 'optimism'), (130, 'bloody'), (131, 'casual sex'), (132, 'dumb twist'), (133, 'macho'), (134, 'nihilistic'), (135, 'enthralling'), (136, 'intense'), (137, 'interesting'), (138, 'feel-good'), (139, 'Nudity (Topless)'), (140, 'TERRORISM'), (141, 'random'), (142, 'stylish'), (143, 'revival of John Travolta'), (144, 'John Travolta'), (145, 'Inspiring'), (146, 'Oscar (Best Actor)'), (147, 'Black comedy'), (148, 'storytelling'), (149, 'greatest movie of all time'), (150, 'life lesson'), (151, 'story telling'), (152, 'watch again'), (153, 'action packed'), (154, 'dark humor'), (155, 'fast paced'), (156, 'nihilism'), (157, 'protest'), (158, 'revolution'), (159, 'terrorism'), (160, 'gore'), (161, 'excellent script'), (162, 'bruce willis'), (163, 'intellectual'), (164, 'hit men'), (165, 'murder'), (166, 'rebellion'), (167, 'cool'), (168, \"Eric's Dvds\"), (169, 'Christopher Walken'), (170, 'multiple viewings'), (171, 'original'), (172, 'rape'), (173, 'unpredictable'), (174, 'big boys with guns'), (175, 'violently silly'), (176, 'anarchy'), (177, 'oscar'), (178, 'multiple personality'), (179, 'incredible life story'), (180, 'high concept'), (181, 'melodrama'), (182, 'reactionary'), (183, 'based on book'), (184, 'Oscar Nominee'), (185, 'super interesting'), (186, 'cult'), (187, 'assassin'), (188, 'black humor'), (189, 'characters'), (190, 'ensemble cast'), (191, 'exciting'), (192, 'ironic'), (193, 'notable soundtrack'), (194, 'original plot'), (195, 'pop culture references'), (196, 'witty'), (197, 'overrated'), (198, 'ultra-violence'), (199, 'amazing'), (200, 'entertaining'), (201, 'tarantion'), (202, 'feel good'), (203, 'feel good movie'), (204, 'purpose in life'), (205, 'You know what they call a Quarter Pounder with cheese in France?'), (206, 'Sexuality'), (207, 'Mafia'), (208, 'suprisingly clever'), (209, 'in netflix queue'), (210, 'jcl to buy'), (211, 'genre defining'), (212, 'highly quotable'), (213, 'commitment'), (214, 'determination'), (215, 'intelligence'), (216, 'fruit company'), (217, 'run'), (218, 'royal with cheese'), (219, 'conversation'), (220, 'different'), (221, 'refined'), (222, 'laidback'), (223, 'simple'), (224, 'spirited'), (225, 'helena bonham carter'), (226, 'thought provoking'), (227, 'unique'), (228, 'uma thurman'), (229, 'consumerism'), (230, 'watch with mom'), (231, 'pointless'), (232, 'charles bukowski'), (233, 'American history'), (234, 'United States'), (235, 'Vietnam war'), (236, 'war'), (237, 'vibe'), (238, 'life affirming'), (239, 'oscar winner'), (240, 'box of chocolate'), (241, 'rolig'), (242, 'söt'), (243, 'seen more than once'), (244, 'soundtrack'), (245, 'Vietnam'), (246, 'ontoleptic'), (247, 'adventure'), (248, 'tarantino'), (249, 'bacon'), (250, 'heroin'), (251, 'reel-to-reel tape'), (252, 'sentimental'), (253, 'drug overdose'), (254, 'R:strong language'), (255, 'must see'), (256, 'life lessons'), (257, 'running'), (258, 'sarcasm'), (259, 'satire'), (260, 'amazing dialogues'), (261, 'Big Kahuna Burger'), (262, 'intertwining storylines'), (263, 'irony'), (264, 'boring'), (265, 'sappy'), (266, 'anti-corporation'), (267, 'cerebral'), (268, 'challenging'), (269, 'Chuck Palahniuk'), (270, 'identity'), (271, 'suffering'), (272, 'hope'), (273, 'innocence'), (274, 'perseverance'), (275, 'super cool'), (276, 'awesome'), (277, 'episodic'), (278, '1990s'), (279, 'achronological'), (280, 'badass'), (281, 'classic movie'), (282, 'creative plot'), (283, 'dancing'), (284, 'entirely dialogue'), (285, 'genius'), (286, 'gritty'), (287, 'innovative'), (288, 'nonlinear timeline'), (289, 'sophisticated'), (290, 'suspense'), (291, 'spans time'), (292, 'r:disturbing violent content including rape'), (293, 'r:graphic sexuality'), (294, 'rape scene'), (295, 'Steve Buscemi'), (296, 'Stupid as Hell'), (297, 'emotional and heroic'), (298, 'fiction'), (299, 'sad but good'), (300, 'Feel good'), (301, '2'), (302, 'grim'), (303, 'long'), (304, 'pseudo-profound'), (305, 'silly'), (306, \"thinks it's cleverer than it is\"), (307, 'long monologues'), (308, 'thriller'), (309, 'sweet'), (310, 'hell ya!'), (311, 'bildungsroman'), (312, 'nice time'), (313, 'president'), (314, 'underdog'), (315, 'Favorite'), (316, 'john travolta'), (317, 'noir thriller'), (318, 'historical fiction'), (319, 'offensive'), (320, 'pretentious'), (321, 'stupid'), (322, 'unrealistic'), (323, 'mixed'), (324, 'tolerable'), (325, 'uneven'), (326, 'Unrequited Love'), (327, 'anomie'), (328, 'historical references'), (329, 'cathartic'), (330, 'losing your mind'), (331, 'subversion'), (332, 'well done'), (333, 'american movie'), (334, 'biopic'), (335, 'historical epic'), (336, '20th century'), (337, 'handicapped'), (338, 'Dialogue'), (339, 'Best Performance:   Samuel L. Jackson as Jules Winnfield'), (340, 'moral ambiguity'), (341, 'tarantino is god'), (342, 'THRILL CRIME'), (343, \"Palahniuk's twisted worlds taken to the screen\"), (344, 'psychologicsl games'), (345, 'questioning sanity'), (346, 'Drama'), (347, 'Samuel L.Jackson'), (348, 'Owned'), (349, 'mysterious parcel'), (350, 'outcast teaches us all a cheesy lesson'), (351, 'Quotable'), (352, 'exploitation'), (353, 'dumb'), (354, 'fish'), (355, 'goblin'), (356, 'bad ass'), (357, 'great editing'), (358, 'rough'), (359, 'bad plot'), (360, 'hallucination'), (361, 'support group'), (362, 'forest'), (363, 'gump'), (364, 'run forest'), (365, 'Very violent'), (366, 'independent'), (367, '1970s'), (368, 'Overrated'), (369, 'too long'), (370, 'funy and touching'), (371, 'history fantasy'), (372, 'sexy'), (373, 'good edition -  Quentin Tarantino'), (374, 'Gary Sinise'), (375, 'very clever'), (376, 'very good'), (377, 'screwball comedy'), (378, 'ignorance'), (379, 'Adaptation'), (380, 'Ed Norton'), (381, 'Palahnuik'), (382, '90s'), (383, 'the \"n\" word'), (384, 'music'), (385, 'retro dance'), (386, 'awsome'), (387, 'CONS AND SCAMS'), (388, 'HIRED KILLERS'), (389, 'HOSTAGE SITUATIONS'), (390, 'irreverent'), (391, 'literate'), (392, 'rousing'), (393, 'talky'), (394, 'visceral'), (395, 'earnest'), (396, 'MOTHERS AND SONS'), (397, 'nostalgic'), (398, 'RAGS TO RICHES'), (399, 'SAINTLY FOOLS'), (400, 'sweeping'), (401, 'UNREQUITED LOVE'), (402, 'whimsical'), (403, 'angry'), (404, 'confrontational'), (405, 'DANGEROUS FRIENDS'), (406, 'FIGHTING THE SYSTEM'), (407, 'SPLIT PERSONALITIES'), (408, 'okkkk'), (409, 'DVD'), (410, 'DIVX'), (411, 'life story'), (412, 'nostalgia'), (413, 'Mystery Thriller'), (414, 'plot twist'), (415, 'never turn off'), (416, 'gratuitous violence'), (417, 'destiny'), (418, 'beautiful'), (419, 'puppets'), (420, 'football'), (421, 'life in general'), (422, 'Firefly'), (423, 'humiliation'), (424, 'military'), (425, 'sad'), (426, 'Disturbing '), (427, 'existential crisis'), (428, 'existential dread'), (429, 'Bibliothek'), (430, 'trendy'), (431, 'samuel l. jackson'), (432, 'starting your own business'), (433, 'unrequited love'), (434, 'great actor'), (435, 'unconventional'), (436, 'noir'), (437, 'trite'), (438, 'sword fight'), (439, 'disability'), (440, 'adapted from:book'), (441, 'homoerotic'), (442, 'hot dudes'), (443, 'ikea'), (444, 'nudity (male)'), (445, 'penis'), (446, 'radical politics'), (447, 'sex'), (448, 'shirtless men'), (449, 'single-serving'), (450, 'surprise ending'), (451, 'therapy'), (452, 'disappointing'), (453, 'slow'), (454, 'not interesting'), (455, 'fight'), (456, 'great humor'), (457, 'film noir'), (458, 'paradoxical'), (459, 'thugs'), (460, 'Jared Leto'), (461, 'stories'), (462, 'Tim Roth'), (463, 'Mykelti Williamson'), (464, 'absorbing'), (465, 'aggressive'), (466, 'anti-hero'), (467, 'artistic'), (468, 'artsy'), (469, 'better than expected'), (470, 'bible'), (471, 'bible quote'), (472, 'biblical passage'), (473, 'biblical reference'), (474, 'biblical references'), (475, 'Character redemption '), (476, 'clever banter'), (477, 'clever writing'), (478, 'complex'), (479, 'complex characters'), (480, 'Contemplative'), (481, 'dialogue driven'), (482, 'dialogue heavy'), (483, 'divine intervention'), (484, 'edgy'), (485, 'Exceptional Acting'), (486, 'extreme violence'), (487, 'extremely gory'), (488, 'ezekiel quotation'), (489, 'fascinating how a conversation and two people keep you interested'), (490, 'Finding God'), (491, 'finding yourself'), (492, 'funky'), (493, 'gay rape'), (494, 'gay sex'), (495, 'god'), (496, \"God's providence \"), (497, 'Good dialogues'), (498, 'great conversation'), (499, 'great lines'), (500, 'great music'), (501, 'great performances'), (502, 'great script'), (503, 'hitman'), (504, 'Holy Spirit '), (505, 'homosexual rape'), (506, 'interlinked stories'), (507, 'interwoven storylines'), (508, 'male on male rape'), (509, 'male rape'), (510, 'meaningless violence'), (511, 'multilayered'), (512, 'multiple perspectives'), (513, 'multiple stories'), (514, 'multiple storyline'), (515, 'multiple time frames'), (516, 'needless gratuitous violence'), (517, 'nonlinear storyline'), (518, 'off-beat'), (519, 'one-liners'), (520, 'original story'), (521, 'out of order'), (522, 'out of sequence'), (523, 'over fucking rated'), (524, 'overated'), (525, 'parody'), (526, 'pop culture'), (527, 'professional hitman'), (528, 'professional killer'), (529, 'quirkey'), (530, 'redemption'), (531, 'sadistic murderer'), (532, 'sadistic psychopath'), (533, 'Seeking righteousness '), (534, 'short stories'), (535, 'smart writing'), (536, 'strange'), (537, 'strangely compelling'), (538, 'thoughtful'), (539, 'unusual'), (540, 'Very strange '), (541, 'witty dialogue'), (542, 'wry humor'), (543, 'anti-capitalism'), (544, 'cynical'), (545, 'manhood'), (546, 'mind bending'), (547, 'bad language'), (548, 'bad-ass'), (549, 'big name actors'), (550, 'black humour'), (551, 'casual violence'), (552, 'coke'), (553, 'cool style'), (554, 'crime scene scrubbing'), (555, 'diner'), (556, 'drugs & music'), (557, 'Eric Stoltz'), (558, 'fast-paced'), (559, 'film-noir'), (560, 'golden watch'), (561, 'Harvey Keitel'), (562, 'homosexuality'), (563, 'humor'), (564, 'humour'), (565, 'killer-as-protagonist'), (566, 'los angeles'), (567, 'milkshake'), (568, 'mobster'), (569, 'mobsters'), (570, 'neo-noir'), (571, 'Nudity (Full Frontal)'), (572, 'organised crime'), (573, 'pulp'), (574, 'r:disturbing violent images'), (575, 'r:some violence'), (576, 'r:strong bloody violence'), (577, 'r:strong language'), (578, 'r:sustained strong stylized violence'), (579, 'r:violence'), (580, 'USA'), (581, 'Ving Rhames'), (582, 'good adaptation of the book'), (583, 'visually appealing'), (584, 'wa'), (585, 'bully'), (586, 'mentally impared character'), (587, 'own'), (588, 'classical'), (589, 'gratuitous cursing'), (590, 'seen at the cinema'), (591, 'sally field'), (592, 'shrimp'), (593, 'retro'), (594, 'Theater'), (595, 'TV'), (596, 'VHS'), (597, 'THEATER'), (598, 'Watched'), (599, 'lame'), (600, 'sexual content'), (601, 'ä½Žä¿—å°\\x8fè¯´'), (602, 'æš´åŠ›'), (603, 'american dream'), (604, 'american spirit'), (605, 'ç»\\x8få…¸'), (606, 'Oscar (Best Effects - Visual Effects)'), (607, 'cinematography'), (608, '20th century history'), (609, 'Bard Pitt'), (610, 'deep but not heavy'), (611, 'funny and sweet'), (612, 'insightful'), (613, 'boredom'), (614, 'american history'), (615, 'running scene'), (616, 'honest'), (617, 'mind-blowing'), (618, 'great casting...'), (619, 'AFI 100'), (620, 'hyperlink cinema'), (621, 'Oscar (Best Original Screenplay)'), (622, \"Palme d'Or\"), (623, 'AFI 100 (Cheers)'), (624, 'AFI 100 (Laughs)'), (625, 'AFI 100 (Movie Quotes)'), (626, 'AFI 100 (Passions)'), (627, 'alternate history'), (628, 'cuckoldry'), (629, 'mental retardation'), (630, 'National Film Registry'), (631, 'Oscar (Best Adapted Screenplay)'), (632, 'Oscar (Best Director)'), (633, 'Oscar (Best Editing)'), (634, 'Winston Groom'), (635, 'corporate culture'), (636, 'psychological drama'), (637, 'gimp'), (638, \"jb's dvds\"), (639, 'Non-action'), (640, 'good story'), (641, 'realistic'), (642, 'character'), (643, 'twists'), (644, 'twists & turns'), (645, 'every fans must see'), (646, 'Oscar (Best Writing - Screenplay Written Directly for the Screen)'), (647, 'optimistic'), (648, 'suprisingly funny'), (649, 'goofy'), (650, 'obfuscated'), (651, 'vietnam'), (652, 'Thumping Soundtrack'), (653, 'Mitchel Classic'), (654, \"Sisters' Night In\"), (655, 'fate'), (656, 'watch-fully'), (657, '1960s'), (658, 'Maria de Medeiros'), (659, 'underworld'), (660, 'mystery'), (661, 'psychedelic'), (662, 'social drama'), (663, 'bechdel test:fail'), (664, 'blends in historic celebrities (like zelig)'), (665, 'academy award winning'), (666, 'samuel l.'), (667, 'Oscar (Best Screenplay)'), (668, 'HBO Max'), (669, 'Robin Wright Penn'), (670, 'alabama'), (671, 'charming'), (672, 'trend setting'), (673, 'Filmbro'), (674, '20th century period piece'), (675, 'romantic drama'), (676, 'conservative'), (677, 'mob'), (678, 'anthology'), (679, 'mental'), (680, 'amazing storytelling'), (681, 'historical revisionism'), (682, 'luck'), (683, 'us culture'), (684, 'touching story'), (685, 'mindbending'), (686, 'justice'), (687, 'ClearPlay'), (688, 'R'), (689, 'Oscar Nominee: Best Picture'), (690, 'main character is simpleminded and has big impact on world'), (691, 'to see: cult classic'), (692, 'male bondage'), (693, 'good soundtrack'), (694, 'fran-done'), (695, 'motivational'), (696, 'Top'), (697, 'americana'), (698, 'Alabama'), (699, 'rated-R'), (700, 'oscar (best picture)'), (701, 'united states'), (702, 'amazing!'), (703, 'wow!'), (704, 'you will love it.'), (705, 'good writing'), (706, 'refreshing'), (707, 'very moving'), (708, 'male-female relationship'), (709, 'tear jerker'), (710, 'bubba gump'), (711, 'chocolate'), (712, 'lt dan'), (713, 'apple'), (714, 'history of usa'), (715, 'Wage Slavery'), (716, 'funny dialogues'), (717, 'masculine'), (718, 'masculinity'), (719, 'sigma male'), (720, 'watched 1994'), (721, 'Top 10 ever'), (722, 'watched 1999'), (723, 'bland'), (724, 'fruitless'), (725, 'hateful'), (726, 'bizarre'), (727, 'real story'), (728, 'controversial'), (729, 'amazing soundtrack'), (730, 'good actors'), (731, 'simply charming'), (732, 'Comedy'), (733, 'https://movielens.org/explore?tag=motherfucker&sortBy=tagScore bad language'), (734, 'edward norton'), (735, 'cliffhanger'), (736, 'emotionally captivating'), (737, 'energizing'), (738, 'revolutionary'), (739, 'auteur'), (740, 'human stories'), (741, 'nice pace'), (742, 'dani2007'), (743, 'split personality'), (744, 'scope'), (745, 'unreliable narrators'), (746, 'testosterone'), (747, 'picaresque drama'), (748, 'family'), (749, 'seventies'), (750, '5 stars'), (751, 'motherfucker'), (752, 'indebted to godard'), (753, 'zeitgeist-y'), (754, 'forgettable'), (755, 'tedious'), (756, 'positive thinking'), (757, 'tag:needless gratuitous redundancy tag'), (758, 'brutal'), (759, 'Thriller '), (760, 'respect'), (761, 'Mindfuck Movie'), (762, 'brilliant'), (763, 'super'), (764, 'america'), (765, 'post-modern'), (766, 'american idiocy'), (767, 'cliched'), (768, 'exceptional acting'), (769, 'dvd'), (770, 'travolta'), (771, 'rewatch'), (772, 'dense'), (773, 'cool coincidences'), (774, 'unwitting hero'), (775, 'hughbar'), (776, 'riveting'), (777, 'aspirational'), (778, 'Acting'), (779, 'Dialogs'), (780, 'Nothing'), (781, 'Short Stories'), (782, 'rewatch worthy'), (783, \"palme d'or\"), (784, 'gary sinise'), (785, 'reflective'), (786, '=Crime'), (787, 'Comedy '), (788, 'terminal illness'), (789, 'huge time period'), (790, 'baby boomer'), (791, 'southern us'), (792, 'dance'), (793, 'life'), (794, \"90's\"), (795, 'extremely slow build'), (796, 'journey'), (797, 'phylosophycal'), (798, 'United States History'), (799, 'Meat Loaf'), (800, 'Cheesy'), (801, 'Semi-Kafkaesque'), (802, 'lord of the ring'), (803, 'converging lives'), (804, 'the best movie ever made. period.'), (805, 'Nudity (Topless - Brief)'), (806, \"50's themed restaurant\"), (807, 'abdomen slashed'), (808, 'accidental killing'), (809, 'accidental shooting'), (810, 'actor director'), (811, 'actor director writer'), (812, 'actress'), (813, 'acura'), (814, 'acura nsx'), (815, 'adrenalin injection'), (816, 'adrenaline'), (817, 'african american'), (818, 'afro'), (819, 'alarm'), (820, 'all star cast'), (821, 'anal rape'), (822, 'anti hero'), (823, 'apartment building'), (824, 'armed robbery'), (825, 'assault'), (826, 'automatic weapon'), (827, 'bad guy'), (828, 'ball gag'), (829, 'band aid on neck'), (830, 'banter'), (831, 'bar'), (832, 'bare chested male'), (833, 'bare feet'), (834, 'barefoot'), (835, 'baseball bat'), (836, 'basement'), (837, 'bathroom'), (838, 'black american'), (839, 'black man white woman marriage'), (840, 'black man white woman relationship'), (841, 'black man white woman romance'), (842, 'black suit clad killer'), (843, 'blockbuster'), (844, 'blood on shirt'), (845, 'blood spatter'), (846, 'blood splatter'), (847, 'blood stain'), (848, 'bloodbath'), (849, 'bloody face'), (850, 'bloody mouth'), (851, 'bloody violence'), (852, 'blowing a kiss'), (853, 'blue panties'), (854, 'body piercing'), (855, 'bondage'), (856, 'bound and gagged'), (857, 'boxer'), (858, 'boxing'), (859, 'boyfriend girlfriend relationship'), (860, 'briefcase'), (861, 'brothel'), (862, 'brushing teeth'), (863, 'buddy'), (864, 'bullet hole'), (865, 'caged human'), (866, 'calling someone a dork'), (867, \"camera shot of a woman's bare feet\"), (868, 'camera shot of mouth'), (869, 'camp'), (870, 'car accident'), (871, 'car crash'), (872, 'car driving'), (873, 'cardiac injection'), (874, 'celebrity impersonator'), (875, 'chain saw'), (876, 'chainsaw'), (877, 'chapter headings'), (878, 'chapter titles'), (879, 'chapterwise storytelling'), (880, 'chopper'), (881, 'cigarette smoking'), (882, 'claw hammer'), (883, 'cleavage'), (884, 'cocaine'), (885, 'cocaine snorting'), (886, 'code'), (887, 'coffee'), (888, 'collateral damage'), (889, 'collision course'), (890, 'combination number 666'), (891, 'convertible'), (892, 'corpse'), (893, 'corruption'), (894, 'counting money'), (895, 'covered in blood'), (896, 'creamy legs'), (897, 'crime boss'), (898, 'crime gone awry'), (899, 'crime spree'), (900, 'crying woman'), (901, 'cult director'), (902, 'cult tv reference'), (903, 'cunnilingus'), (904, 'cup of coffee'), (905, 'dance competition'), (906, 'dance contest'), (907, 'dancing the twist'), (908, 'deception'), (909, 'dinner'), (910, 'directed by co star'), (911, 'director cameo'), (912, 'disturbed individual'), (913, 'dork'), (914, 'double cross'), (915, 'drive in classic'), (916, 'drug'), (917, 'drug addiction'), (918, 'drug dealer'), (919, 'drug dealing'), (920, 'drug snorting'), (921, 'drug use'), (922, 'eating a muffin'), (923, 'ed sullivan impersonation'), (924, 'eeny meeny miny moe'), (925, 'eeny meeny miny moe decision making'), (926, 'elevator'), (927, 'empathy'), (928, 'envelope of money'), (929, 'ethnic slur'), (930, 'evil'), (931, 'evil man'), (932, 'extreme closeup'), (933, 'f word'), (934, 'facial piercing'), (935, 'fake blood'), (936, 'falling asleep'), (937, 'famous line'), (938, 'fantasy sequence'), (939, 'father son relationship'), (940, 'female bare feet'), (941, 'fictional brand'), (942, 'finger gun'), (943, 'fixed fight'), (944, 'flashback'), (945, 'flashback humor'), (946, 'fool'), (947, 'foot chase'), (948, 'foot massage'), (949, 'foreplay'), (950, 'forming a square in the air'), (951, 'freeze frame'), (952, 'garden hose'), (953, 'girl in panties'), (954, 'glass syringe'), (955, 'gold'), (956, 'gold watch'), (957, 'good versus evil'), (958, 'gourmet'), (959, \"great grandfather's wrist watch\"), (960, 'grindhouse film'), (961, 'gun'), (962, 'gun held to head'), (963, \"gun held to one's head\"), (964, 'gun pointed at face'), (965, 'gunshot wound'), (966, 'hamburger'), (967, 'hamburger for breakfast'), (968, 'head blown off'), (969, 'head wound'), (970, 'heirloom'), (971, 'held at gunpoint'), (972, 'high on drugs'), (973, 'hispanic american'), (974, 'hit by a car'), (975, 'hit in the face'), (976, 'hit on the head'), (977, 'homage'), (978, 'homicidal maniac'), (979, 'honda'), (980, 'honda civic'), (981, 'human monster'), (982, 'hundred dollar tip'), (983, 'husband wife relationship'), (984, 'hypodermic needle'), (985, 'identifiable'), (986, 'identifiable dialogue'), (987, 'impersonating a police officer'), (988, 'impersonating buddy holly'), (989, 'impersonating ed sullivan'), (990, 'impersonating mamie van doren'), (991, 'impersonating marilyn monroe'), (992, 'implied cunnilingus'), (993, 'in medias res'), (994, 'independent film'), (995, 'injection in heart'), (996, 'injection into the heart'), (997, 'intercom'), (998, 'interracial marriage'), (999, 'interracial relationship'), (1000, 'interracial romance'), (1001, 'interrogation'), (1002, 'interruption'), (1003, 'italian american'), (1004, 'joint'), (1005, 'joke'), (1006, 'junkyard'), (1007, 'kamikaze'), (1008, 'katana'), (1009, 'katana sword'), (1010, 'kept in a box'), (1011, 'kiss'), (1012, 'kissing in public'), (1013, 'knocked out'), (1014, 'knocked out with gun butt'), (1015, 'leather mask'), (1016, 'leg'), (1017, 'lifting someone into the air'), (1018, 'lingerie'), (1019, 'long take'), (1020, 'los angeles california'), (1021, 'los angeles, california'), (1022, 'loyalty'), (1023, 'macguffin'), (1024, 'machine gun'), (1025, 'machine gunned'), (1026, 'machismo'), (1027, 'male in a shower'), (1028, 'male in shower'), (1029, 'male nudity'), (1030, 'male wears an earring'), (1031, 'male with long hair'), (1032, 'mamie van doren costume'), (1033, 'man in socks'), (1034, 'man in stocking feet'), (1035, 'man sits on a toilet'), (1036, 'man tied up'), (1037, 'man undresses'), (1038, 'man with a pony tail'), (1039, 'maniac'), (1040, 'marijuana joint'), (1041, 'marilyn monroe character'), (1042, 'massage'), (1043, 'mexican american'), (1044, 'mexican standoff'), (1045, 'midnight movie'), (1046, 'military dress uniform'), (1047, 'military officer'), (1048, 'milk shake with a cherry on top'), (1049, 'mini dress'), (1050, 'mirror'), (1051, 'money roll'), (1052, 'motel'), (1053, 'motorcycle'), (1054, 'motorcycle riding'), (1055, 'movie reference'), (1056, 'mullet'), (1057, 'murder by gunshot'), (1058, 'murdered with a gun'), (1059, 'murdered with a sword'), (1060, 'mutilation'), (1061, 'muzzle'), (1062, 'n word'), (1063, 'national film registry'), (1064, 'near death experience'), (1065, 'neo noir'), (1066, 'nipples visible through clothing'), (1067, 'no music'), (1068, 'nose bleed'), (1069, 'nosebleed'), (1070, 'number 666'), (1071, \"number in character's name\"), (1072, 'nurse'), (1073, 'off screen murder'), (1074, 'on the run'), (1075, 'oral sex'), (1076, 'overdose'), (1077, 'pack of money'), (1078, 'pancake breakfast'), (1079, 'panties'), (1080, 'pawnshop'), (1081, 'payphone'), (1082, 'person in a car trunk'), (1083, 'perversion'), (1084, 'phone booth'), (1085, 'phonograph'), (1086, 'piercing'), (1087, 'planning a robbery'), (1088, 'playing against type'), (1089, 'pop tart'), (1090, 'pot smoking'), (1091, 'problem solver'), (1092, 'profanity'), (1093, 'prologue'), (1094, 'psycho killer'), (1095, 'psychopath'), (1096, 'psychopathic killer'), (1097, 'psychotronic film'), (1098, 'pulp fiction'), (1099, 'pump action shotgun'), (1100, 'punched in the face'), (1101, 'racial slur'), (1102, 'racism'), (1103, 'racist'), (1104, 'rapist'), (1105, 'reading book'), (1106, 'record player'), (1107, 'red apples cigarettes'), (1108, 'reel to reel tape recorder'), (1109, 'reference to amos and andy'), (1110, 'reference to arnold ziffel'), (1111, 'reference to fonzie'), (1112, 'reference to jayne mansfield'), (1113, 'reference to martin and lewis'), (1114, 'reference to the warriors'), (1115, 'rescue'), (1116, 'restaurant'), (1117, 'restaurant owner'), (1118, 'restaurant robbery'), (1119, 'restroom'), (1120, 'revenge'), (1121, 'riding motorcycle'), (1122, 'robber'), (1123, 'robbery'), (1124, 'rolling a cigarette'), (1125, 'rolling a joint'), (1126, 'running for your life'), (1127, 'sadistic killer'), (1128, 'scantily clad female'), (1129, 'secret briefcase'), (1130, 'secret code'), (1131, 'semi independent film'), (1132, 'serial killer'), (1133, 'serial murderer'), (1134, 'serial rapist'), (1135, 'sex scene'), (1136, 'sex slave'), (1137, 'sexual abuse'), (1138, 'sexual assault'), (1139, 'sexual predator'), (1140, 'sexual reference'), (1141, 'sexual violence'), (1142, 'sexy woman'), (1143, 'shared universe'), (1144, 'shooting up'), (1145, 'shootout'), (1146, 'shop owner'), (1147, 'shot in the arm'), (1148, 'shot in the belly'), (1149, 'shot in the chest'), (1150, 'shot in the crotch'), (1151, 'shot in the face'), (1152, 'shot in the forehead'), (1153, 'shot in the head'), (1154, 'shot in the leg'), (1155, 'shot in the shoulder'), (1156, 'shot multiple times'), (1157, 'shot repeatedly'), (1158, 'shot through a wall'), (1159, 'shot to death'), (1160, 'shotgun'), (1161, 'shouting'), (1162, 'shower'), (1163, 'silenced machine gun'), (1164, 'silencer'), (1165, 'singing'), (1166, 'slashed to death'), (1167, 'slaughtered'), (1168, 'slot car race track'), (1169, 'slot car racing'), (1170, 'slurping a drink with a straw'), (1171, 'smoking a joint'), (1172, 'snorting cocaine'), (1173, 'some scenes in black and white'), (1174, 'sprayed with water'), (1175, 'sprite soda'), (1176, 'starts with a definition'), (1177, 'stolen money'), (1178, 'strip club'), (1179, 'surrender'), (1180, 'sweet revenge'), (1181, 'syringe'), (1182, \"talking to one's self\"), (1183, 'talking to oneself in a mirror'), (1184, 'talking while driving'), (1185, 'taxi'), (1186, 'telephone call'), (1187, 'telling a joke'), (1188, 'terror'), (1189, 'theft'), (1190, 'themed restaurant'), (1191, 'tied to a chair'), (1192, 'tied up and gagged'), (1193, 'toaster'), (1194, 'toaster pastry'), (1195, 'tongue piercing'), (1196, 'torso cut in half'), (1197, 'torture'), (1198, 'torturer'), (1199, 'transporter'), (1200, 'trophy'), (1201, 'tuxedo'), (1202, 'twist the dance'), (1203, 'two killers'), (1204, 'two man army'), (1205, 'two on a motorcycle'), (1206, 'two word title'), (1207, 'uniform'), (1208, 'upskirt'), (1209, 'uzi'), (1210, 'vietnam war veteran'), (1211, 'villain'), (1212, 'voyeur'), (1213, 'voyeurism'), (1214, 'wallet'), (1215, 'war story'), (1216, 'washing hands'), (1217, 'watching the three stooges'), (1218, 'watching tv'), (1219, 'white panties'), (1220, 'white trash'), (1221, 'woman wears a one piece swimsuit'), (1222, 'wrestler'), (1223, 'wristwatch'), (1224, 'written and directed by cast member'), (1225, 'zentai'), (1226, 'zippo lighter'), (1227, '1911 colt pistol'), (1228, '1950s'), (1229, '1980s'), (1230, 'academy award winner'), (1231, 'air strike'), (1232, 'amputee'), (1233, 'anger'), (1234, 'anti war movement'), (1235, 'assassination'), (1236, 'assassination of president'), (1237, 'assembling a rifle'), (1238, 'athlete'), (1239, 'autism'), (1240, 'balcony'), (1241, 'based on novel'), (1242, 'based on novel or book'), (1243, 'battle'), (1244, 'best friend'), (1245, 'bitterness'), (1246, 'black man'), (1247, 'black panther party'), (1248, 'black panthers'), (1249, 'black woman'), (1250, 'boarder'), (1251, 'boat'), (1252, 'boat captain'), (1253, 'brief male frontal nudity'), (1254, 'bullying'), (1255, 'bus'), (1256, 'bus ride'), (1257, 'bus stop'), (1258, 'business proposition'), (1259, 'calling someone an idiot'), (1260, \"carrying someone on one's back\"), (1261, 'character appears on a tv talk show'), (1262, 'character appears on magazine cover'), (1263, 'character name as title'), (1264, 'character name in title'), (1265, \"character repeats narrator's words\"), (1266, 'child abuse'), (1267, 'childhood friend'), (1268, 'china'), (1269, 'church'), (1270, 'civil rights movement'), (1271, 'clean with toothbrush'), (1272, 'climbing a tree'), (1273, 'college'), (1274, 'colt .45'), (1275, 'congenital spine malformation'), (1276, 'congressional medal of honor'), (1277, 'cornfield'), (1278, 'dead body'), (1279, 'death of friend'), (1280, 'death of mother'), (1281, 'deathbed'), (1282, 'decorated veteran'), (1283, 'devoted mother'), (1284, 'dick cavett interview'), (1285, 'disabled veteran'), (1286, 'diving into water'), (1287, 'doctor'), (1288, 'double amputee'), (1289, 'drug addict'), (1290, 'elvis presley character'), (1291, 'ethnic stereotype'), (1292, 'face slap'), (1293, 'fainting'), (1294, 'faith'), (1295, 'false history'), (1296, 'family home'), (1297, 'family relationships'), (1298, 'famous score'), (1299, 'father'), (1300, 'fatherless child'), (1301, 'feather'), (1302, 'female nudity'), (1303, 'female rear nudity'), (1304, 'fictional biography'), (1305, 'film footage'), (1306, 'filmed in utah'), (1307, 'first mate'), (1308, 'fishing'), (1309, 'follower'), (1310, 'football scholarship'), (1311, 'friendship'), (1312, 'friendship between men'), (1313, 'girl wears eyeglasses'), (1314, 'glacier national park'), (1315, 'grave'), (1316, 'guitar'), (1317, 'hand job'), (1318, 'handicap'), (1319, 'heavy rain'), (1320, 'helicopter'), (1321, 'hippie'), (1322, 'hugging'), (1323, 'ice cream'), (1324, 'image of eldridge cleaver'), (1325, 'interracial friendship'), (1326, 'john f. kennedy character'), (1327, 'john lennon character'), (1328, 'jumping into water'), (1329, 'jungle'), (1330, 'jungle warfare'), (1331, 'killed in action'), (1332, 'kindness'), (1333, 'leg brace'), (1334, 'leg braces'), (1335, 'legacy'), (1336, 'legless man'), (1337, 'letter writing'), (1338, 'lincoln memorial'), (1339, 'loss of friend'), (1340, 'loss of mother'), (1341, 'loss of virginity'), (1342, 'low iq'), (1343, 'lyndon b. johnson character'), (1344, 'm 16'), (1345, 'm 72 light antitank weapon'), (1346, 'maid'), (1347, 'making out'), (1348, 'male female relationship'), (1349, 'male hits a female'), (1350, 'male lieutenant'), (1351, 'male masturbation'), (1352, 'male protagonist'), (1353, 'male pubic hair'), (1354, 'male soldier'), (1355, 'man hits a woman'), (1356, 'man wears eyeglasses'), (1357, 'medal of honor'), (1358, 'mentally challenged'), (1359, 'mentally challenged man'), (1360, 'mentally challenged protagonist'), (1361, 'mentally disabled'), (1362, 'mentally impaired'), (1363, 'military hospital'), (1364, 'monsoon'), (1365, 'mother'), (1366, 'mother son relationship'), (1367, 'napalm'), (1368, 'narrated by title character'), (1369, 'national guard'), (1370, 'national mall'), (1371, \"new year's eve\"), (1372, \"new year's eve party\"), (1373, 'new york city'), (1374, 'nike'), (1375, 'oldies in soundtrack'), (1376, 'opportunism'), (1377, 'opportunist'), (1378, 'parent child relationship'), (1379, 'park bench'), (1380, 'philanthropy'), (1381, 'physical abuse'), (1382, 'picaresque'), (1383, 'ping pong'), (1384, 'ping pong paddle'), (1385, 'platoon'), (1386, 'post traumatic stress disorder'), (1387, 'prayer'), (1388, 'prostitution'), (1389, 'pubic hair'), (1390, 'racial stereotype'), (1391, 'rain'), (1392, 'rainy night'), (1393, 'red light district'), (1394, 'reference to god'), (1395, 'reference to jesus christ'), (1396, 'reference to joan baez'), (1397, 'reference to the dick cavett show'), (1398, 'reference to the ku klux klan'), (1399, 'reunion'), (1400, 'richard m. nixon character'), (1401, 'rooming house'), (1402, 'runner'), (1403, 'running away'), (1404, 'saigon vietnam'), (1405, 'san francisco california'), (1406, 'savannah georgia'), (1407, 'scene during opening credits'), (1408, 'school bus'), (1409, 'school desegregation'), (1410, 'serendipity'), (1411, 'sexual favor'), (1412, 'shrimp boat'), (1413, 'shrimping'), (1414, 'simple man'), (1415, 'singer'), (1416, 'single mother'), (1417, 'sitting on a park bench'), (1418, 'slow motion scene'), (1419, 'sniper fire'), (1420, 'socks'), (1421, 'soldier'), (1422, 'son'), (1423, 'speech'), (1424, 'splatter'), (1425, 'stock footage'), (1426, 'suicide attempt'), (1427, 'swimming'), (1428, 'television'), (1429, 'television news'), (1430, 'telling someone to run'), (1431, 'telling someone to shut up'), (1432, 'the white house'), (1433, 'times square'), (1434, 'title spoken by character'), (1435, 'told in flashback'), (1436, 'tragicomedy'), (1437, 'trailer narrated by hal douglas'), (1438, 'tuscaloosa alabama'), (1439, 'twentieth century history'), (1440, 'u.s. president'), (1441, 'u.s. soldier'), (1442, 'university of alabama'), (1443, 'usa'), (1444, 'vietnam veteran'), (1445, 'walkie talkie'), (1446, 'war hero'), (1447, 'washington d.c.'), (1448, 'watergate'), (1449, 'watergate hotel'), (1450, 'watergate scandal'), (1451, 'wedding'), (1452, 'wheelchair'), (1453, 'woman wears eyeglasses'), (1454, 'wounded in action'), (1455, 'wounded soldier'), (1456, '20th century fox'), (1457, '20th century studios'), (1458, 'abandoned house'), (1459, 'acid'), (1460, 'addiction'), (1461, 'affection'), (1462, 'airplane'), (1463, 'airport'), (1464, 'alienation'), (1465, 'alter ego'), (1466, 'anarchism'), (1467, 'anarchist'), (1468, 'angst'), (1469, 'anguish'), (1470, 'anti authority'), (1471, 'anti capitalism'), (1472, 'anti conformity'), (1473, 'anti consumerism'), (1474, 'anti establishment'), (1475, 'anti social'), (1476, 'anti social behavior'), (1477, 'apartment fire'), (1478, 'argument'), (1479, 'attempted bombing'), (1480, 'bad guy wins'), (1481, 'banquet'), (1482, 'bar fight'), (1483, 'bare ass'), (1484, 'bare breasts'), (1485, 'bare butt'), (1486, 'bare chested'), (1487, 'bathtub'), (1488, 'battle against the system'), (1489, 'beaten to a pulp'), (1490, 'beating'), (1491, 'beer'), (1492, 'beer drinking'), (1493, 'belch'), (1494, 'black eye'), (1495, 'blackmail'), (1496, \"blood on one's mouth\"), (1497, 'bmw sedan'), (1498, 'bomb'), (1499, 'bombing'), (1500, 'breaking the fourth wall'), (1501, 'breaking the rules'), (1502, 'breast exam'), (1503, 'breasts'), (1504, 'broken glasses'), (1505, 'bruise'), (1506, 'bullet time'), (1507, 'burned car'), (1508, 'burned up car'), (1509, 'burp'), (1510, 'business card'), (1511, 'cancer'), (1512, 'chakra'), (1513, \"character repeating someone else's dialogue\"), (1514, 'chemical'), (1515, 'chemical burn'), (1516, 'clinic'), (1517, 'club'), (1518, 'condo'), (1519, 'condom'), (1520, 'confrontation'), (1521, 'confusion'), (1522, 'copier'), (1523, 'corporate logo'), (1524, 'counter culture'), (1525, 'cruelty'), (1526, 'crying'), (1527, 'crying man'), (1528, 'cubicle'), (1529, 'culture jamming'), (1530, 'damage'), (1531, 'danger'), (1532, 'darkness'), (1533, 'dead man'), (1534, 'death'), (1535, 'decadence'), (1536, 'defacing property'), (1537, 'degradation'), (1538, 'deja vu'), (1539, 'despair'), (1540, 'desperation'), (1541, 'destruction'), (1542, 'dildo'), (1543, 'dirt'), (1544, 'discussion'), (1545, 'disgruntled worker'), (1546, 'dissociative identity disorder'), (1547, 'donut'), (1548, 'downward spiral'), (1549, 'drunkenness'), (1550, 'dual identity'), (1551, 'dutch angle'), (1552, 'dystopia'), (1553, 'electric shaver'), (1554, 'embrace'), (1555, 'erection'), (1556, 'exploding building'), (1557, 'explosion'), (1558, 'facial bruise'), (1559, 'falling down stairs'), (1560, 'famous twist'), (1561, 'female frontal nudity'), (1562, 'fighting movie'), (1563, 'fighting the system'), (1564, 'fighting with self'), (1565, 'film reel'), (1566, 'filth'), (1567, 'fire'), (1568, 'fisticuffs'), (1569, 'flash forward'), (1570, 'fondling'), (1571, 'fury'), (1572, 'gang'), (1573, 'gay subtext'), (1574, 'girl'), (1575, 'graphic violence'), (1576, 'group therapy'), (1577, 'group work'), (1578, 'gun in mouth'), (1579, 'hawaiian shirt'), (1580, 'head shaving'), (1581, 'hearing sex'), (1582, 'hearing sex through a wall'), (1583, 'hopelessness'), (1584, 'hotel'), (1585, 'household cleaning gloves'), (1586, 'hug'), (1587, 'ice cave'), (1588, 'imagination'), (1589, 'insult'), (1590, 'kicking'), (1591, 'kubrickian'), (1592, 'laundromat'), (1593, 'leg spreading'), (1594, 'lincoln town car'), (1595, 'liposuction'), (1596, 'listening to sex'), (1597, 'loneliness'), (1598, 'loss of control'), (1599, 'love hate relationship'), (1600, 'love seeking'), (1601, 'luggage'), (1602, 'lust'), (1603, 'lye'), (1604, 'madness'), (1605, 'male in a bathtub'), (1606, 'male objectification'), (1607, 'male rear nudity'), (1608, 'male wears underwear'), (1609, 'man at a urinal'), (1610, 'man boobs'), (1611, 'man in a bathtub'), (1612, 'man in a bed'), (1613, 'man urinating'), (1614, 'man wears boxer shorts'), (1615, 'man wears underwear in public'), (1616, 'man with no name'), (1617, 'manic pixie dream girl'), (1618, 'manipulation'), (1619, 'masochism'), (1620, 'mass destruction'), (1621, 'meals on wheels'), (1622, 'meditation'), (1623, 'mental instability'), (1624, 'mercilessness'), (1625, 'missionary position'), (1626, 'motion picture projection'), (1627, 'movie flop'), (1628, 'movie projectionist'), (1629, 'movie theater'), (1630, 'multiple personality disorder'), (1631, 'nameless character'), (1632, 'narration'), (1633, 'neo luddism'), (1634, 'newspaper clipping'), (1635, 'night'), (1636, 'nihilist'), (1637, 'nitroglycerin'), (1638, 'office'), (1639, 'office worker'), (1640, 'old dark house'), (1641, 'old house'), (1642, 'out of control'), (1643, 'overhearing sex'), (1644, 'pain'), (1645, 'paranoia'), (1646, 'partner'), (1647, 'pay phone'), (1648, 'penguin'), (1649, 'philosophical conversation'), (1650, 'photocopier'), (1651, 'photocopy'), (1652, 'plane crash'), (1653, 'police'), (1654, 'police commissioner'), (1655, 'pool'), (1656, 'pool table'), (1657, 'pornography'), (1658, 'product placement'), (1659, 'projectionist'), (1660, 'psychotic'), (1661, 'public bathroom'), (1662, 'punch'), (1663, 'punched in the mouth'), (1664, 'punched in the nose'), (1665, 'punched in the stomach'), (1666, 'punching'), (1667, 'quitting a job'), (1668, 'rage'), (1669, 'rage and hate'), (1670, 'reckless driving'), (1671, 'reference to abraham lincoln'), (1672, 'reference to ernest hemingway'), (1673, 'reference to gandhi'), (1674, 'reference to ikea'), (1675, 'reference to martha stewart'), (1676, 'reference to william shatner'), (1677, 'routine'), (1678, 'rules'), (1679, 'sadism'), (1680, 'sadomasochism'), (1681, 'safety glasses'), (1682, 'secret society'), (1683, 'self destructiveness'), (1684, 'self inflicted burn injury'), (1685, 'self inflicted gunshot wound'), (1686, 'self injury'), (1687, 'self mutilation'), (1688, 'severe tire damage'), (1689, 'sex dream'), (1690, 'sex in bed'), (1691, 'sex in missionary position'), (1692, 'sexism'), (1693, 'sexual attraction'), (1694, 'sexual desire'), (1695, 'shirt'), (1696, 'shooting'), (1697, 'shot in the cheek'), (1698, 'shot through the mouth'), (1699, 'social satire'), (1700, 'sociopath'), (1701, 'sound of sex'), (1702, 'starbucks'), (1703, 'starbucks coffee'), (1704, 'subliminal message'), (1705, 'suitcase'), (1706, 'surrealism'), (1707, 'taking a bath'), (1708, 'talking to self'), (1709, 'talking to the camera'), (1710, 'telephone'), (1711, 'telephone booth'), (1712, 'telephone conversation'), (1713, 'tension'), (1714, 'testicular cancer'), (1715, 'threat'), (1716, 'tie'), (1717, 'title fight'), (1718, 'title same as book'), (1719, 'toilet'), (1720, 'tough guy'), (1721, 'travel'), (1722, 'tuberculosis'), (1723, 'underground fight club'), (1724, 'underground sport'), (1725, 'unreliable narration'), (1726, 'unreliable narrator'), (1727, 'urban decay'), (1728, 'urinal'), (1729, 'urinating in food'), (1730, 'urinating while being watched'), (1731, 'urination'), (1732, 'used condom'), (1733, 'vandalism'), (1734, 'visionary'), (1735, 'visual metaphor'), (1736, 'voice over narration'), (1737, 'volkswagen beetle'), (1738, 'vw beetle'), (1739, 'waiter'), (1740, 'white collar'), (1741, 'wilmington delaware'), (1742, 'wrath'), (1743, 'drug abuse'), (1744, 'heart-warming'), (1745, 'sixties'), (1746, 'Sexualized violence'), (1747, \"Walked out/didn't finish\"), (1748, 'of'), (1749, 'piece'), (1750, 'shit'), (1751, 'lifetime movie'), (1752, 'love story'), (1753, 'hard to follow'), (1754, 'much ado about nothing'), (1755, 'historic'), (1756, 'weirdos are okay'), (1757, 'motivation'), (1758, 'perfect'), (1759, 'shit my pans'), (1760, 'Bechdel Test:Fail'), (1761, 'author:Chuck Palahniuk'), (1762, 'self destruction'), (1763, 'slurs'), (1764, 'baby boomers'), (1765, 'cloying'), (1766, 'historical drama'), (1767, 'craziness'), (1768, 'crazy'), (1769, 'related:forrest gump'), (1770, 'meaningless'), (1771, 'Mr. Robot'), (1772, 'funny hardcore'), (1773, 'tarrantino'), (1774, 'dirty'), (1775, 'Oscar Nominee: Best Picture 1994'), (1776, 'Oscar Winner: Best Picture'), (1777, 'extremely boring'), (1778, 'super boring'), (1779, 'army'), (1780, 'trashy'), (1781, 'woodstock'), (1782, 'empty'), (1783, 'Crime'), (1784, 'special effects'), (1785, 'ohsoso'), (1786, 'raw'), (1787, 'misogeny'), (1788, 'capitalism'), (1789, 'tom hanks is my favorite actor'), (1790, 'bad acting'), (1791, 'terrible plot'), (1792, 'Gfei own it'), (1793, 'poignant'), (1794, 'fictional history'), (1795, 'the south'), (1796, 'positive'), (1797, 'Capitalism'), (1798, 'contrived'), (1799, \"Can't remember\"), (1800, 'Classic Film'), (1801, 'steven spielberg'), (1802, 'Great movie'), (1803, 'love lt. dan'), (1804, 'very powerfulll..; tom hanks very big...'), (1805, 'edw'), (1806, 'grimy'), (1807, 'hyper masculine'), (1808, 'Masculinity'), (1809, 'men'), (1810, 'muscle'), (1811, \"The first rule of MovieLens is we don't talk about Fight Club\"), (1812, 'toxic masculinity'), (1813, 'deep'), (1814, 'meaningful'), (1815, 'excellent movie'), (1816, 'dark co'), (1817, 'BD-Video'), (1818, 'CLV'), (1819, 'DVD-Video'), (1820, 'IMAX DMR reissue in 2014'), (1821, 'Great'), (1822, 'Amazing'), (1823, 'Edgar Award (Best Motion Picture)'), (1824, 'written by director'), (1825, 'author:Winston Groom'), (1826, 'Los Angeles'), (1827, 'Memphis'), (1828, 'New York City'), (1829, 'Oscar (Best Writing - Screenplay Based on Material from Another Medium)'), (1830, 'Oscar Nominee: Art Direction'), (1831, 'Oscar Nominee: Cinematography'), (1832, 'Oscar Nominee: Makeup'), (1833, 'Oscar Nominee: Music - Original Score'), (1834, 'Oscar Nominee: Sound'), (1835, 'Oscar Nominee: Sound Effects Editing'), (1836, 'Oscar Nominee: Supporting Actor'), (1837, 'PG-13'), (1838, 'PG-13:drug content'), (1839, 'PG-13:some sexuality'), (1840, 'PG-13:war violence'), (1841, 'Savannah GA'), (1842, 'Washington DC'), (1843, 'sabotage'), (1844, 'screenwriter:Jim Uhls'), (1845, 'Interesting '), (1846, '20th century current events'), (1847, 'cool plot'), (1848, 'passion'), (1849, '_SAFE_GARANTY'), (1850, 'excellent characters'), (1851, 'funny moments'), (1852, 'police corruption'), (1853, '2020'), (1854, 'Classic'), (1855, 'doyouspeakit'), (1856, 'inglish'), (1857, 'ensemble'), (1858, \"memasa's movies\"), (1859, 'fight club'), (1860, 'peer support'), (1861, 'food'), (1862, 'coming of age'), (1863, 'legend'), (1864, 'nudity'), (1865, 'over coming adversity'), (1866, 'existential'), (1867, 'shallow characters'), (1868, 'colourful'), (1869, 'run forrest'), (1870, 'trash'), (1871, 'lurid'), (1872, 'AFI 100 (Thrills)'), (1873, 'Saturn Award (Best Fantasy Film)'), (1874, 'Saturn Award (Best Supporting Actor)'), (1875, 'topic:aids/hiv'), (1876, 'great diao'), (1877, 'life positive'), (1878, 'plot'), (1879, 'anal'), (1880, 'hipster'), (1881, 'ldschoolcool'), (1882, 'robert zemeckis'), (1883, 'comedy/drama'), (1884, 'PUA'), (1885, 'better than jobs'), (1886, 'tits'), (1887, 'owned'), (1888, 'robin wright penn'), (1889, 'brad pitt'), (1890, 'Contradictory'), (1891, 'ending'), (1892, 'self-destruction'), (1893, 'b movie'), (1894, 'b-movie'), (1895, 'dare'), (1896, 'marcelus'), (1897, 'consumism'), (1898, 'conservatism'), (1899, 'aids'), (1900, 'excellent! great story and cinetmatography'), (1901, 'perfect script'), (1902, 'period drama'), (1903, 'chick flick'), (1904, 'comedy drama adventure'), (1905, 'exceptional choice of music'), (1906, 'joyful'), (1907, 'see samuel l jackson in big afro'), (1908, 'see uma thurman and john travolta dance'), (1909, 'tarantinos film about murder and dance'), (1910, 'propaganda in disguise'), (1911, 'awarded oscar'), (1912, 'boxoffice success'), (1913, 'mainstream'), (1914, 'book'), (1915, 'Buddy movie'), (1916, 'tearjerker'), (1917, 'too violent'), (1918, 'Biblical references '), (1919, 'Seen 2022'), (1920, 'sodomy'), (1921, 'blood sport'), (1922, 'bloodsport'), (1923, 'ennui'), (1924, 'existential angst'), (1925, 'explosions'), (1926, 'mayhem'), (1927, 'Seen 2020'), (1928, 'jus+san'), (1929, 'AMAZING!'), (1930, 'nothing'), (1931, 'life is like a box of chocolates'), (1932, 'story'), (1933, 'metaplot'), (1934, 'insane'), (1935, 'AFI #95'), (1936, 'AFI #71'), (1937, 'BEST PICTURE'), (1938, 'best screenplay'), (1939, 'captivating'), (1940, 'direction'), (1941, 'quinten tarantino'), (1942, 'Not nearly as good as the book'), (1943, 'david fincher'), (1944, 'intersecting lives'), (1945, 'influential'), (1946, 'historical twist'), (1947, 'must see!'), (1948, 'wes anderson'), (1949, '60s'), (1950, 'enjoyab'), (1951, 'good'), (1952, 'pretentious bullshit'), (1953, 'english'), (1954, 'hardcore'), (1955, 'S M A R T      MOVIE!!!'), (1956, 'Stylish'), (1957, 'multiple dissociative personality disorder'), (1958, 'dvd-r'), (1959, 'buy'), (1960, 'get'), (1961, 'best performance:   samuel l. jackson as jules winnfield'), (1962, 'responsibility'), (1963, 'box'), (1964, 'chocolates'), (1965, 'JFK'), (1966, 'different events'), (1967, 'K'), (1968, 'spiritual journey'), (1969, \"i'm moved\"), (1970, 'it was so impressed'), (1971, 'engrossing'), (1972, 'AWESOME'), (1973, \"everyone's favorite\"), (1974, 'adolescent philosophy'), (1975, 'Sally Field'), (1976, 'surprising plot'), (1977, 'unlikely hero'), (1978, 'My DVDs'), (1979, 'need to buy'), (1980, 'metafiction'), (1981, 'special'), (1982, 'wired 50 greatest soundtracks'), (1983, 'excellent acting'), (1984, 'fantasy'), (1985, 'great storytelling'), (1986, 'bleedin'), (1987, 'boys will be boys'), (1988, 'formative media'), (1989, 'mature'), (1990, 'well written and structured'), (1991, 'caper'), (1992, 'feelgood'), (1993, 'long movie'), (1994, 'absolute favorite'), (1995, 'need to own'), (1996, 'Excellent cast'), (1997, 'political'), (1998, 'chuck palahniuk'), (1999, 'bad humor'), (2000, 'dramatic'), (2001, 'annoying'), (2002, 'marla singer'), (2003, 'good songs'), (2004, 'no moral'), (2005, 'simplistic'), (2006, 'cruel'), (2007, 'sick'), (2008, 'lovely naiveness'), (2009, 'us history'), (2010, 'makes you think'), (2011, 'good-hearted'), (2012, 'odds-defying'), (2013, 'amarica'), (2014, 'hippies'), (2015, 'pulpy'), (2016, 'quotes'), (2017, 'US history'), (2018, 'memorable'), (2019, 'great cast excellent'), (2020, 'oscar (best screenplay)'), (2021, 'mawkish'), (2022, 'facebook rec'), (2023, 'messed up'), (2024, 'time jump'), (2025, 'inspiration'), (2026, 'slow-paced'), (2027, 'Original'), (2028, 'worse book'), (2029, 'well-directed'), (2030, 'escapism'), (2031, 'claustrophobic'), (2032, 'art'), (2033, 'pychologically thrilling'), (2034, 'Golden Palm'), (2035, 'bad cgi'), (2036, 'cute'), (2037, 'white-collar'), (2038, 'i liked  it!!'), (2039, 'it reminds history'), (2040, 'poorly acted'), (2041, 'shallow'), (2042, 'crass'), (2043, 'midieval'), (2044, 'surreal-Panos'), (2045, 'cinematographer:Jeff Cronenweth'), (2046, \"films that shouldn't be edited\"), (2047, 'suitcase of light'), (2048, 'a mess - but a kinda cool mess'), (2049, \"gettin' your pitt out of the head\"), (2050, 'period piece'), (2051, 'fictional biographical'), (2052, 'happy ending'), (2053, 'spaghetti western'), (2054, 'mental disability'), (2055, 'awesome mast good'), (2056, 'heart follower'), (2057, 'runer')]\n"
     ]
    }
   ],
   "source": [
    "# Step 4. Build tag_lookup_array [(NewTagID, tag), ...]\n",
    "tag_lookup_array = [\n",
    "    (int(row.NewTagID), row.tag)\n",
    "    for _, row in unique_tags.iterrows()\n",
    "]\n",
    "\n",
    "print(tag_lookup_array)"
   ]
  },
  {
   "cell_type": "code",
   "execution_count": 9,
   "id": "40650191",
   "metadata": {},
   "outputs": [
    {
     "data": {
      "text/html": [
       "<div>\n",
       "<style scoped>\n",
       "    .dataframe tbody tr th:only-of-type {\n",
       "        vertical-align: middle;\n",
       "    }\n",
       "\n",
       "    .dataframe tbody tr th {\n",
       "        vertical-align: top;\n",
       "    }\n",
       "\n",
       "    .dataframe thead th {\n",
       "        text-align: right;\n",
       "    }\n",
       "</style>\n",
       "<table border=\"1\" class=\"dataframe\">\n",
       "  <thead>\n",
       "    <tr style=\"text-align: right;\">\n",
       "      <th></th>\n",
       "      <th>movieId</th>\n",
       "      <th>tag</th>\n",
       "      <th>NewTagID</th>\n",
       "    </tr>\n",
       "  </thead>\n",
       "  <tbody>\n",
       "    <tr>\n",
       "      <th>0</th>\n",
       "      <td>2959</td>\n",
       "      <td>Brad Pitt</td>\n",
       "      <td>0</td>\n",
       "    </tr>\n",
       "    <tr>\n",
       "      <th>1</th>\n",
       "      <td>2959</td>\n",
       "      <td>dark</td>\n",
       "      <td>1</td>\n",
       "    </tr>\n",
       "    <tr>\n",
       "      <th>2</th>\n",
       "      <td>2959</td>\n",
       "      <td>dark comedy</td>\n",
       "      <td>2</td>\n",
       "    </tr>\n",
       "    <tr>\n",
       "      <th>3</th>\n",
       "      <td>2959</td>\n",
       "      <td>Edward Norton</td>\n",
       "      <td>3</td>\n",
       "    </tr>\n",
       "    <tr>\n",
       "      <th>4</th>\n",
       "      <td>2959</td>\n",
       "      <td>mental illness</td>\n",
       "      <td>4</td>\n",
       "    </tr>\n",
       "    <tr>\n",
       "      <th>...</th>\n",
       "      <td>...</td>\n",
       "      <td>...</td>\n",
       "      <td>...</td>\n",
       "    </tr>\n",
       "    <tr>\n",
       "      <th>15660</th>\n",
       "      <td>296</td>\n",
       "      <td>spaghetti western</td>\n",
       "      <td>2053</td>\n",
       "    </tr>\n",
       "    <tr>\n",
       "      <th>15662</th>\n",
       "      <td>356</td>\n",
       "      <td>mental disability</td>\n",
       "      <td>2054</td>\n",
       "    </tr>\n",
       "    <tr>\n",
       "      <th>15721</th>\n",
       "      <td>356</td>\n",
       "      <td>awesome mast good</td>\n",
       "      <td>2055</td>\n",
       "    </tr>\n",
       "    <tr>\n",
       "      <th>15753</th>\n",
       "      <td>356</td>\n",
       "      <td>heart follower</td>\n",
       "      <td>2056</td>\n",
       "    </tr>\n",
       "    <tr>\n",
       "      <th>15754</th>\n",
       "      <td>356</td>\n",
       "      <td>runer</td>\n",
       "      <td>2057</td>\n",
       "    </tr>\n",
       "  </tbody>\n",
       "</table>\n",
       "<p>2325 rows × 3 columns</p>\n",
       "</div>"
      ],
      "text/plain": [
       "       movieId                tag  NewTagID\n",
       "0         2959          Brad Pitt         0\n",
       "1         2959               dark         1\n",
       "2         2959        dark comedy         2\n",
       "3         2959      Edward Norton         3\n",
       "4         2959     mental illness         4\n",
       "...        ...                ...       ...\n",
       "15660      296  spaghetti western      2053\n",
       "15662      356  mental disability      2054\n",
       "15721      356  awesome mast good      2055\n",
       "15753      356     heart follower      2056\n",
       "15754      356              runer      2057\n",
       "\n",
       "[2325 rows x 3 columns]"
      ]
     },
     "execution_count": 9,
     "metadata": {},
     "output_type": "execute_result"
    }
   ],
   "source": [
    "rel_tags_filtered = rel_tags.drop(columns=[\"userId\", \"timestamp\"]).drop_duplicates()\n",
    "rel_tags_filtered"
   ]
  },
  {
   "cell_type": "code",
   "execution_count": 10,
   "id": "a8bc6d28",
   "metadata": {},
   "outputs": [],
   "source": [
    "# Step 5. Build movie_tag_tuples using NewTagID instead of original tagId\n",
    "movie_tag_tuples = (\n",
    "    rel_tags_filtered.groupby([\"movieId\"])\n",
    "            .apply(lambda df: [\n",
    "                (int(row.NewTagID), row.tag)\n",
    "                for _, row in df.iterrows()\n",
    "            ])\n",
    "            .reset_index(name=\"TagTuples\")\n",
    "    .merge(movies[[\"movieId\", \"title\"]], on=\"movieId\", how=\"left\")\n",
    ")\n",
    "\n",
    "# Restrict to top n movies\n",
    "movie_tag_tuples = movie_tag_tuples[movie_tag_tuples[\"movieId\"].isin(top_movie_ids)]"
   ]
  },
  {
   "cell_type": "code",
   "execution_count": 11,
   "id": "40f69820",
   "metadata": {},
   "outputs": [
    {
     "data": {
      "text/plain": [
       "{356: 1, 296: 0, 2959: 2}"
      ]
     },
     "execution_count": 11,
     "metadata": {},
     "output_type": "execute_result"
    }
   ],
   "source": [
    "oldid_newid = {356:1, 296:0, 2959:2}\n",
    "oldid_newid"
   ]
  },
  {
   "cell_type": "code",
   "execution_count": 12,
   "id": "48ad74aa",
   "metadata": {},
   "outputs": [
    {
     "name": "stdout",
     "output_type": "stream",
     "text": [
      "2058\n"
     ]
    }
   ],
   "source": [
    "original_tags = []\n",
    "for i, tag in tag_lookup_array:\n",
    "    original_tags.append(tag)\n",
    "print(len(original_tags))"
   ]
  },
  {
   "cell_type": "markdown",
   "id": "1c30e733",
   "metadata": {},
   "source": [
    "### How we generated first moviegroups & movietags split"
   ]
  },
  {
   "cell_type": "code",
   "execution_count": 13,
   "id": "8e1ac63a",
   "metadata": {},
   "outputs": [],
   "source": [
    "N = 23\n",
    "top_n = 3"
   ]
  },
  {
   "cell_type": "code",
   "execution_count": 14,
   "id": "f0a7967e",
   "metadata": {},
   "outputs": [
    {
     "name": "stdout",
     "output_type": "stream",
     "text": [
      "0 Pulp Fiction (1994) 944\n",
      "1 Forrest Gump (1994) 748\n",
      "2 Fight Club (1999) 633\n"
     ]
    }
   ],
   "source": [
    "movietags = [set() for i in range(top_n)]\n",
    "for _, row in movie_tag_tuples.iterrows():\n",
    "    pos_movie = oldid_newid[row['movieId']]\n",
    "    movietags[pos_movie] = list(set(row['TagTuples']))\n",
    "    print(pos_movie, row['title'], len(movietags[pos_movie]))"
   ]
  },
  {
   "cell_type": "code",
   "execution_count": 15,
   "id": "e77d487a",
   "metadata": {},
   "outputs": [],
   "source": [
    "true_movie = 0\n",
    "id_in_true_movie = np.zeros(len(original_tags), dtype=int) - 1   #will be -1 if not in true movie tags\n",
    "for i in range(len(movietags[true_movie])):\n",
    "    id_t, tag = movietags[true_movie][i]\n",
    "    id_in_true_movie[id_t] = int(i)"
   ]
  },
  {
   "cell_type": "code",
   "execution_count": 16,
   "id": "d65aa9db",
   "metadata": {},
   "outputs": [],
   "source": [
    "get_group = {}\n",
    "np.random.seed(42)\n",
    "tmp_shuffled = np.random.RandomState(seed=42).permutation(len(original_tags))\n",
    "tag_groups = [[] for i in range(N)]\n",
    "for i in range(len(original_tags)):\n",
    "    t = tmp_shuffled[i]\n",
    "    if (id_in_true_movie[t] != -1):\n",
    "        formula = id_in_true_movie[t] // 41\n",
    "    else:\n",
    "        formula = i // 89\n",
    "    if (formula >= N):\n",
    "        formula=N-1\n",
    "    get_group[original_tags[t]] = formula\n",
    "    tag_groups[formula].append(original_tags[t])"
   ]
  },
  {
   "cell_type": "code",
   "execution_count": 17,
   "id": "ebf761f8",
   "metadata": {},
   "outputs": [
    {
     "name": "stdout",
     "output_type": "stream",
     "text": [
      "Group 0 has 92 tags.\n",
      "Group 1 has 85 tags.\n",
      "Group 2 has 93 tags.\n",
      "Group 3 has 93 tags.\n",
      "Group 4 has 81 tags.\n",
      "Group 5 has 91 tags.\n",
      "Group 6 has 94 tags.\n",
      "Group 7 has 92 tags.\n",
      "Group 8 has 93 tags.\n",
      "Group 9 has 86 tags.\n",
      "Group 10 has 91 tags.\n",
      "Group 11 has 89 tags.\n",
      "Group 12 has 81 tags.\n",
      "Group 13 has 96 tags.\n",
      "Group 14 has 79 tags.\n",
      "Group 15 has 90 tags.\n",
      "Group 16 has 86 tags.\n",
      "Group 17 has 82 tags.\n",
      "Group 18 has 92 tags.\n",
      "Group 19 has 91 tags.\n",
      "Group 20 has 102 tags.\n",
      "Group 21 has 85 tags.\n",
      "Group 22 has 94 tags.\n"
     ]
    }
   ],
   "source": [
    "for i in range(N):\n",
    "    print(f\"Group {i} has {len(tag_groups[i])} tags.\")"
   ]
  },
  {
   "cell_type": "code",
   "execution_count": 18,
   "id": "b17ced1b",
   "metadata": {},
   "outputs": [
    {
     "name": "stdout",
     "output_type": "stream",
     "text": [
      "0 Pulp Fiction (1994)\n",
      "1 Forrest Gump (1994)\n",
      "2 Fight Club (1999)\n"
     ]
    }
   ],
   "source": [
    "existing_tags = [set() for i in range(len(tag_groups))]\n",
    "movie_group = [\n",
    "    [set() for _ in range(len(tag_groups))]  # empty list for each group\n",
    "    for _ in range(top_n)       # for each movie\n",
    "]\n",
    "for _, row in movie_tag_tuples.iterrows():\n",
    "    pos_movie = oldid_newid[row['movieId']]\n",
    "    print(pos_movie, row['title'])\n",
    "    for id_tag, tag in row['TagTuples']:\n",
    "        existing_tags[get_group[tag]].add(tag)\n",
    "        movie_group[pos_movie][get_group[tag]].add(id_tag)"
   ]
  },
  {
   "cell_type": "code",
   "execution_count": 19,
   "id": "51a85767",
   "metadata": {},
   "outputs": [
    {
     "name": "stdout",
     "output_type": "stream",
     "text": [
      "41 41 41 41 41 41 41 41 41 41 41 41 41 41 41 41 41 41 41 41 41 41 42 \n",
      "35 33 37 35 24 33 36 31 38 32 33 31 28 34 25 25 35 32 30 34 43 25 39 \n",
      "28 25 26 29 26 30 27 29 27 20 37 26 24 40 27 34 21 16 28 24 32 28 29 \n"
     ]
    }
   ],
   "source": [
    "for m in range(top_n):\n",
    "    for g in range(N):\n",
    "        movie_group[m][g] = list(movie_group[m][g])\n",
    "        print(len(movie_group[m][g]), end=\" \")\n",
    "    print()"
   ]
  },
  {
   "cell_type": "markdown",
   "id": "07e7a100",
   "metadata": {},
   "source": [
    "Should be:  \n",
    "41 41 41 41 41 41 41 41 41 41 41 41 41 41 41 41 41 41 41 41 41 41 42  \n",
    "34 30 37 34 28 33 37 30 38 35 37 32 25 34 20 27 35 31 29 38 43 28 33  \n",
    "23 32 24 32 30 23 23 31 32 23 34 27 23 35 30 32 21 17 31 23 28 26 33"
   ]
  },
  {
   "cell_type": "markdown",
   "id": "d16b1b5b",
   "metadata": {},
   "source": [
    "There is still randomness in both, because of set(...), so to acess the data just load from files"
   ]
  },
  {
   "cell_type": "code",
   "execution_count": 25,
   "id": "7d6d4418",
   "metadata": {},
   "outputs": [],
   "source": [
    "import pickle\n",
    "with open(\"data/Moviegroups.pkl\", \"rb\") as f:\n",
    "    movie_group = pickle.load(f)"
   ]
  },
  {
   "cell_type": "code",
   "execution_count": 26,
   "id": "8eaf853c",
   "metadata": {},
   "outputs": [],
   "source": [
    "import pickle\n",
    "with open(\"data/Movietags.pkl\", \"rb\") as f:\n",
    "    movietags = pickle.load(f)"
   ]
  },
  {
   "cell_type": "code",
   "execution_count": 27,
   "id": "f17041da",
   "metadata": {},
   "outputs": [
    {
     "name": "stdout",
     "output_type": "stream",
     "text": [
      "41 41 41 41 41 41 41 41 41 41 41 41 41 41 41 41 41 41 41 41 41 41 42 \n",
      "34 30 37 34 28 33 37 30 38 35 37 32 25 34 20 27 35 31 29 38 43 28 33 \n",
      "23 32 24 32 30 23 23 31 32 23 34 27 23 35 30 32 21 17 31 23 28 26 33 \n"
     ]
    }
   ],
   "source": [
    "for m in range(top_n):\n",
    "    for g in range(N):\n",
    "        movie_group[m][g] = list(movie_group[m][g])\n",
    "        print(len(movie_group[m][g]), end=\" \")\n",
    "    print()"
   ]
  },
  {
   "cell_type": "markdown",
   "id": "d7f7e8d6",
   "metadata": {},
   "source": [
    "### Adding split tags"
   ]
  },
  {
   "cell_type": "code",
   "execution_count": 40,
   "id": "ce11ae22",
   "metadata": {},
   "outputs": [],
   "source": [
    "import random\n",
    "\n",
    "# Split Pulp Fiction tags\n",
    "split_tags_all = []\n",
    "for tid, tag in movietags[0]:\n",
    "    words = tag.split()\n",
    "    if len(words) >= 2:\n",
    "        for w in words:\n",
    "            split_tags_all.append(w)\n",
    "\n",
    "# Deduplicate\n",
    "split_tags_all = list(set(split_tags_all))\n",
    "\n",
    "# Deterministic sample of 300\n",
    "random.seed(42)\n",
    "sampled_words = random.sample(split_tags_all, 300)\n",
    "\n",
    "sampled_split_tags = []\n",
    "tag_to_id = {}\n",
    "for i, w in enumerate(sampled_words):\n",
    "    sampled_split_tags.append((len(original_tags) + i, w))\n",
    "    tag_to_id[w] = i\n",
    "    \n",
    "# Assign IDs 2058–2357\n",
    "sampled_split_tags = [(i,w) for i, w in enumerate(sampled_words)]"
   ]
  },
  {
   "cell_type": "code",
   "execution_count": 41,
   "id": "59de0821",
   "metadata": {},
   "outputs": [],
   "source": [
    "extended_tags = original_tags + [w for _, w in sampled_split_tags]"
   ]
  },
  {
   "cell_type": "markdown",
   "id": "f0f8d6e7",
   "metadata": {},
   "source": [
    "This gets the wrong result, because there is a set() again. So we just load the correct results from the files "
   ]
  },
  {
   "cell_type": "code",
   "execution_count": 43,
   "id": "766242c5",
   "metadata": {},
   "outputs": [],
   "source": [
    "import pickle\n",
    "with open(\"data/sampled_split_tags.pkl\", \"rb\") as f:\n",
    "    sampled_split_tags = pickle.load(f)"
   ]
  },
  {
   "cell_type": "code",
   "execution_count": 44,
   "id": "bf47b7b1",
   "metadata": {},
   "outputs": [],
   "source": [
    "import pickle\n",
    "with open(\"data/extended_tags.pkl\", \"rb\") as f:\n",
    "    extended_tags = pickle.load(f)"
   ]
  }
 ],
 "metadata": {
  "kernelspec": {
   "display_name": "Python 3 (ipykernel)",
   "language": "python",
   "name": "python3"
  },
  "language_info": {
   "codemirror_mode": {
    "name": "ipython",
    "version": 3
   },
   "file_extension": ".py",
   "mimetype": "text/x-python",
   "name": "python",
   "nbconvert_exporter": "python",
   "pygments_lexer": "ipython3",
   "version": "3.10.12"
  }
 },
 "nbformat": 4,
 "nbformat_minor": 5
}
