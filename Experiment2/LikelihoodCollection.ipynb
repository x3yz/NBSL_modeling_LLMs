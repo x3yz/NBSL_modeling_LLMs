{
 "cells": [
  {
   "cell_type": "code",
   "execution_count": 1,
   "id": "d5ca11ee",
   "metadata": {},
   "outputs": [
    {
     "name": "stdout",
     "output_type": "stream",
     "text": [
      "Defaulting to user installation because normal site-packages is not writeable\n",
      "Requirement already satisfied: openai in /home/zoya/.local/lib/python3.10/site-packages (1.99.9)\n",
      "Requirement already satisfied: tqdm>4 in /home/zoya/.local/lib/python3.10/site-packages (from openai) (4.64.1)\n",
      "Requirement already satisfied: pydantic<3,>=1.9.0 in /home/zoya/.local/lib/python3.10/site-packages (from openai) (2.6.4)\n",
      "Requirement already satisfied: typing-extensions<5,>=4.11 in /home/zoya/.local/lib/python3.10/site-packages (from openai) (4.14.1)\n",
      "Requirement already satisfied: anyio<5,>=3.5.0 in /home/zoya/.local/lib/python3.10/site-packages (from openai) (3.6.2)\n",
      "Requirement already satisfied: distro<2,>=1.7.0 in /usr/lib/python3/dist-packages (from openai) (1.7.0)\n",
      "Requirement already satisfied: sniffio in /home/zoya/.local/lib/python3.10/site-packages (from openai) (1.3.0)\n",
      "Requirement already satisfied: jiter<1,>=0.4.0 in /home/zoya/.local/lib/python3.10/site-packages (from openai) (0.10.0)\n",
      "Requirement already satisfied: httpx<1,>=0.23.0 in /home/zoya/.local/lib/python3.10/site-packages (from openai) (0.28.1)\n",
      "Requirement already satisfied: idna>=2.8 in /usr/lib/python3/dist-packages (from anyio<5,>=3.5.0->openai) (3.3)\n",
      "Requirement already satisfied: httpcore==1.* in /home/zoya/.local/lib/python3.10/site-packages (from httpx<1,>=0.23.0->openai) (1.0.9)\n",
      "Requirement already satisfied: certifi in /home/zoya/.local/lib/python3.10/site-packages (from httpx<1,>=0.23.0->openai) (2022.12.7)\n",
      "Requirement already satisfied: h11>=0.16 in /home/zoya/.local/lib/python3.10/site-packages (from httpcore==1.*->httpx<1,>=0.23.0->openai) (0.16.0)\n",
      "Requirement already satisfied: pydantic-core==2.16.3 in /home/zoya/.local/lib/python3.10/site-packages (from pydantic<3,>=1.9.0->openai) (2.16.3)\n",
      "Requirement already satisfied: annotated-types>=0.4.0 in /home/zoya/.local/lib/python3.10/site-packages (from pydantic<3,>=1.9.0->openai) (0.6.0)\n"
     ]
    }
   ],
   "source": [
    "!pip install openai\n",
    "\n",
    "from openai import OpenAI\n",
    "import networkx as nx\n",
    "\n",
    "import numpy as np\n",
    "from scipy import stats as sps\n",
    "import seaborn as sns\n",
    "from matplotlib import pyplot as plt\n",
    "import pandas as pd\n",
    "np.random.seed(42)"
   ]
  },
  {
   "cell_type": "code",
   "execution_count": 2,
   "id": "c493fb32",
   "metadata": {},
   "outputs": [],
   "source": [
    "import pickle\n",
    "with open(\"data/Moviegroups.pkl\", \"rb\") as f:\n",
    "    movie_group = pickle.load(f)\n",
    "with open(\"data/Movietags.pkl\", \"rb\") as f:\n",
    "    movietags = pickle.load(f)"
   ]
  },
  {
   "cell_type": "code",
   "execution_count": 3,
   "id": "dc9af855",
   "metadata": {},
   "outputs": [],
   "source": [
    "with open(\"data/extended_tags.pkl\", \"rb\") as f:\n",
    "    extended_tags = pickle.load(f)"
   ]
  },
  {
   "cell_type": "code",
   "execution_count": 4,
   "id": "5f25031e",
   "metadata": {},
   "outputs": [],
   "source": [
    "with open(\"data/sampled_split_tags.pkl\", \"rb\") as f:\n",
    "    sampled_split_tags = pickle.load(f)"
   ]
  },
  {
   "cell_type": "code",
   "execution_count": 5,
   "id": "ea33bd50",
   "metadata": {},
   "outputs": [],
   "source": [
    "OPENAI_API_KEY=\"...\" # from openrouter"
   ]
  },
  {
   "cell_type": "code",
   "execution_count": 6,
   "id": "573afa82",
   "metadata": {},
   "outputs": [],
   "source": [
    "import time\n",
    "import numpy as np\n",
    "\n",
    "class Agent:\n",
    "    def __init__(self, api_key, model, description=None, api_type=\"Groq\", max_retries=5, retry_delay=50):\n",
    "        self.client = OpenAI(api_key=api_key, base_url=\"https://openrouter.ai/api/v1\")\n",
    "        self.model = model\n",
    "        self.description = description\n",
    "        self.max_retries = max_retries\n",
    "        self.retry_delay = retry_delay\n",
    "        self.history = [\n",
    "            {\"role\": \"system\", \"content\": f\"{self.description}\"}\n",
    "        ]\n",
    "\n",
    "    def _generate_response(self, messages):\n",
    "        print(f\"# call with {messages}\")\n",
    "        response = None\n",
    "        try:\n",
    "          response = self.client.chat.completions.create(\n",
    "              messages=messages,\n",
    "              model=self.model,\n",
    "              temperature=0,\n",
    "              top_p=0.5\n",
    "          )\n",
    "        except Exception as e:\n",
    "          print(f\"# Error: {e}\")\n",
    "        print(f\"# raw: {response}\")\n",
    "\n",
    "        # Check for API error\n",
    "        if getattr(response, \"error\", None):\n",
    "            print(f\"# API error {response.error.get('code')}: {response.error.get('message')}\")\n",
    "            return None\n",
    "\n",
    "        # Check if choices exist\n",
    "        if not getattr(response, \"choices\", None):\n",
    "            print(\"# No choices returned\")\n",
    "            return None\n",
    "\n",
    "        content = getattr(response.choices[0].message, \"content\", None)\n",
    "        if not content:\n",
    "            print(\"# Empty content returned\")\n",
    "            return None\n",
    "\n",
    "        return content\n",
    "\n",
    "    def stateful_chat(self, user_message, history_message = \"\"):\n",
    "        self.history.append({\"role\": \"user\", \"content\": user_message})\n",
    "        response = None\n",
    "        for attempt in range(self.max_retries):\n",
    "            response = self._generate_response(self.history)\n",
    "            if response is not None:\n",
    "                try:\n",
    "                    tmp = [float(x) for x in response.split()]\n",
    "                    if len(tmp) != 3:\n",
    "                        raise ValueError(\"Response does not contain exactly 3 numbers\")\n",
    "                except ValueError:\n",
    "                    # Parsing failed or wrong number of floats -> retry\n",
    "                    print(f\"# Retry {attempt+1}/{self.max_retries} after {self.retry_delay}s...\")\n",
    "                    time.sleep(self.retry_delay)\n",
    "                    continue  # go to next retry attempt\n",
    "\n",
    "                # If we got here, parsing succeeded\n",
    "                print(f\"#{response}\")\n",
    "                self.history.pop()\n",
    "                if history_message != \"\":\n",
    "                    self.history.append({\"role\": \"user\", \"content\": history_message})\n",
    "                return response\n",
    "            print(f\"# Retry {attempt+1}/{self.max_retries} after {self.retry_delay}s...\")\n",
    "            time.sleep(self.retry_delay)\n",
    "\n",
    "        self.history.pop()\n",
    "#         self.history.append({\"role\": \"user\", \"content\": history_message})\n",
    "        return response\n",
    "\n",
    "    def reset_history(self):\n",
    "        self.history = [self.history[0]]"
   ]
  },
  {
   "cell_type": "markdown",
   "id": "7d342bd1",
   "metadata": {},
   "source": [
    "### Likelihood collection"
   ]
  },
  {
   "cell_type": "code",
   "execution_count": 7,
   "id": "b73fa36b",
   "metadata": {},
   "outputs": [],
   "source": [
    "top_n = 3"
   ]
  },
  {
   "cell_type": "code",
   "execution_count": 8,
   "id": "4812efb2",
   "metadata": {},
   "outputs": [],
   "source": [
    "llm_agent = Agent(\n",
    "    api_key=OPENAI_API_KEY,\n",
    "    model=\"openai/gpt-oss-120b\",\n",
    "    api_type=\"OpenAI\",\n",
    "    description=\"Presume that any of the three movies is initially equally likely. Then a single tag is given, related to the correct movie. Return ONLY three space-separated decimal numbers. NO explanations, NO formatting.\",\n",
    ")"
   ]
  },
  {
   "cell_type": "code",
   "execution_count": 10,
   "id": "ccdd78ff",
   "metadata": {},
   "outputs": [],
   "source": [
    "with open(\"data/Likelihoods\", \"rb\") as f:\n",
    "    id_likelihood_precomputed = np.load(f)"
   ]
  },
  {
   "cell_type": "code",
   "execution_count": 11,
   "id": "4e5f7c63",
   "metadata": {},
   "outputs": [],
   "source": [
    "id_likelihood = np.zeros((100, len(extended_tags), 3))"
   ]
  },
  {
   "cell_type": "code",
   "execution_count": 12,
   "id": "c56d3bb7",
   "metadata": {},
   "outputs": [],
   "source": [
    "id_likelihood = np.copy(id_likelihood_precomputed)"
   ]
  },
  {
   "cell_type": "code",
   "execution_count": 13,
   "id": "d0fedfee",
   "metadata": {},
   "outputs": [],
   "source": [
    "num_samples = 11"
   ]
  },
  {
   "cell_type": "code",
   "execution_count": 16,
   "id": "7d7faa7b",
   "metadata": {},
   "outputs": [],
   "source": [
    "for sample in range(num_samples):\n",
    "    llm_agent.reset_history()\n",
    "    for clue_id in range(len(extended_tags)):\n",
    "        clue = extended_tags[clue_id]\n",
    "        if (clue_id >= 2058 + 140):\n",
    "            continue\n",
    "        if id_likelihood[sample][clue_id].sum() == 0:\n",
    "            head_prompt = f\"\"\"Given the tag: \\\"{clue}\\\", what is your belief over the three classes [Pulp Fiction, Forrest Gump, Fight Club]? Return ONLY EXACTLY three space-separated decimal numbers. NO explanations, NO text, NO formatting.\"\"\"\n",
    "            response = llm_agent.stateful_chat(head_prompt)\n",
    "            id_likelihood[sample][clue_id] = np.array([float(x) for x in response.split()])\n",
    "#         print(f\"clue {clue_id}, {clue}: {id_likelihood[sample][clue_id]}\")"
   ]
  },
  {
   "cell_type": "code",
   "execution_count": 17,
   "id": "5da9b020",
   "metadata": {},
   "outputs": [],
   "source": [
    "with open(\"data/Likelihoods\", \"rb\") as f:\n",
    "    id_likelihood = np.load(f)"
   ]
  }
 ],
 "metadata": {
  "kernelspec": {
   "display_name": "Python 3 (ipykernel)",
   "language": "python",
   "name": "python3"
  },
  "language_info": {
   "codemirror_mode": {
    "name": "ipython",
    "version": 3
   },
   "file_extension": ".py",
   "mimetype": "text/x-python",
   "name": "python",
   "nbconvert_exporter": "python",
   "pygments_lexer": "ipython3",
   "version": "3.10.12"
  }
 },
 "nbformat": 4,
 "nbformat_minor": 5
}
